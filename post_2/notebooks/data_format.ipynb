{
 "cells": [
  {
   "cell_type": "code",
   "execution_count": 1,
   "metadata": {},
   "outputs": [],
   "source": [
    "# %pip install pillow"
   ]
  },
  {
   "cell_type": "code",
   "execution_count": 2,
   "metadata": {},
   "outputs": [],
   "source": [
    "from PIL import Image, ImageOps\n",
    "from os import scandir, path, mkdir\n"
   ]
  },
  {
   "cell_type": "code",
   "execution_count": 3,
   "metadata": {},
   "outputs": [],
   "source": [
    "NEW_SIZE = (224, 224)\n",
    "DATA_DIR = '../data'\n",
    "IMAGE_EXT = ['.jpg', '.jpeg', '.png', 'webp']\n",
    "INPUT_DIR_A = path.join(DATA_DIR, 'model_input_a')\n",
    "INPUT_DIR_B = path.join(DATA_DIR, 'model_input_b')"
   ]
  },
  {
   "cell_type": "code",
   "execution_count": 4,
   "metadata": {},
   "outputs": [],
   "source": [
    "def resize_image(image_path, new_path, new_size=NEW_SIZE):\n",
    "    image = Image.open(image_path)\n",
    "    image.thumbnail(new_size)\n",
    "    delta_w = new_size[0] - image.size[0]\n",
    "    delta_h = new_size[1] - image.size[1]\n",
    "    padding = (delta_w//2, delta_h//2, delta_w-(delta_w//2), delta_h-(delta_h//2))\n",
    "    image = ImageOps.expand(image, padding)\n",
    "    image.save(new_path)\n"
   ]
  },
  {
   "cell_type": "code",
   "execution_count": 5,
   "metadata": {},
   "outputs": [],
   "source": [
    "if not path.exists(INPUT_DIR_A):\n",
    "    mkdir(INPUT_DIR_A)\n",
    "\n",
    "\n",
    "if not path.exists(INPUT_DIR_B):\n",
    "    mkdir(INPUT_DIR_B)\n",
    "    "
   ]
  },
  {
   "cell_type": "code",
   "execution_count": 6,
   "metadata": {},
   "outputs": [
    {
     "name": "stdout",
     "output_type": "stream",
     "text": [
      "Capucines_boulevard.png\n",
      "Dinner_of_Sisley.jpeg\n",
      "Mrs_Monet.jpeg\n",
      "Pears_and_grapes.jpg\n",
      "Plazzo_da_mula_in_Venezia.jpeg\n",
      "Pond_of_water_lily.jpeg\n",
      "Poplars_of_Giverny.jpg\n",
      "Red_poppy.jpeg\n",
      "Terrace_of_Saint-Adresse.jpeg\n"
     ]
    }
   ],
   "source": [
    "monet_a = [file.name for file in scandir(f'{DATA_DIR}/Monet_A') if any(file.name.endswith(ext) for ext in IMAGE_EXT)] \n",
    "if not path.exists(f'{INPUT_DIR_A}/Monet'):\n",
    "    mkdir(f'{INPUT_DIR_A}/Monet')\n",
    "\n",
    "for image in monet_a:\n",
    "    image_path = f'{DATA_DIR}/Monet_A/{image}'\n",
    "    new_path = f'{INPUT_DIR_A}/Monet/{image}'\n",
    "    if new_path.endswith('.webp'):\n",
    "        new_path = new_path.replace('.webp', '.jpg')\n",
    " \n",
    "    resize_image(image_path, new_path)\n",
    "\n",
    "for file in scandir(f'{INPUT_DIR_A}/Monet'):\n",
    "    print(file.name)\n",
    "    "
   ]
  },
  {
   "cell_type": "code",
   "execution_count": 7,
   "metadata": {},
   "outputs": [
    {
     "name": "stdout",
     "output_type": "stream",
     "text": [
      "Girls_in_Avignon.jpg\n",
      "Girl_with_a_ring.jpeg\n",
      "Guitar-_cup_and_fruits.jpeg\n",
      "Man_with_a_violin.jpg\n",
      "Model_and_artist.jpg\n",
      "Nude_woman_under_the_pine_tree.jpeg\n",
      "Nude_woman_with_a_comb.jpg\n",
      "Still_life_with_a_pan.jpg\n",
      "Woman_playing_with_a_vall_on_the_beach.jpg\n",
      "Women_of_Algeria.jpeg\n"
     ]
    }
   ],
   "source": [
    "picasso_a = [file.name for file in scandir(f'{DATA_DIR}/Picasso_A') if any(file.name.endswith(ext) for ext in IMAGE_EXT)]\n",
    "if not path.exists(f'{INPUT_DIR_A}/Picasso'):\n",
    "    mkdir(f'{INPUT_DIR_A}/Picasso')\n",
    "\n",
    "for image in picasso_a:\n",
    "    image_path = f'{DATA_DIR}/Picasso_A/{image}'\n",
    "    new_path = f'{INPUT_DIR_A}/Picasso/{image}'\n",
    "    if new_path.endswith('.webp'):\n",
    "        new_path = new_path.replace('.webp', '.jpg')\n",
    " \n",
    "    resize_image(image_path, new_path)\n",
    "\n",
    "for file in scandir(f'{INPUT_DIR_A}/Picasso'):\n",
    "    print(file.name)\n",
    "    "
   ]
  },
  {
   "cell_type": "code",
   "execution_count": 8,
   "metadata": {},
   "outputs": [
    {
     "name": "stdout",
     "output_type": "stream",
     "text": [
      "An_impression-sun_rise.jpeg\n",
      "Lady_with_parasole.jpeg\n",
      "Mrs_Monet.jpeg\n",
      "Pears_and_grapes.jpg\n",
      "Pond_of_water_lily.jpeg\n",
      "River.jpg\n",
      "Station_of_Saint-Lazare.jpeg\n",
      "Terrace_of_Saint-Adresse.jpeg\n",
      "Water_lily.jpeg\n"
     ]
    }
   ],
   "source": [
    "monet_b = [file.name for file in scandir(f'{DATA_DIR}/Monet_B') if any(file.name.endswith(ext) for ext in IMAGE_EXT)] \n",
    "if not path.exists(f'{INPUT_DIR_B}/Monet'):\n",
    "    mkdir(f'{INPUT_DIR_B}/Monet')\n",
    "\n",
    "for image in monet_b:\n",
    "    image_path = f'{DATA_DIR}/Monet_B/{image}'\n",
    "    new_path = f'{INPUT_DIR_B}/Monet/{image}'\n",
    "    if new_path.endswith('.webp'):\n",
    "        new_path = new_path.replace('.webp', '.jpg')\n",
    " \n",
    "    resize_image(image_path, new_path)\n",
    "\n",
    "for file in scandir(f'{INPUT_DIR_B}/Monet'):\n",
    "    print(file.name)\n",
    "    "
   ]
  },
  {
   "cell_type": "code",
   "execution_count": 9,
   "metadata": {},
   "outputs": [
    {
     "name": "stdout",
     "output_type": "stream",
     "text": [
      "-Ma_jolie-.jpeg\n",
      "Dance.jpg\n",
      "Donna_con_ventaglio_in_poltrona.jpg\n",
      "Donna_dalle_mani_intrecciate.jpeg\n",
      "Fabbrica.jpeg\n",
      "Il_poeta.jpeg\n",
      "Les_Demoiselles_D-Avignon.jpeg\n",
      "Natura_mora_su_un_caminette.jpeg\n",
      "Three_musicians.jpeg\n",
      "Uono_con_pipa.jpg\n"
     ]
    }
   ],
   "source": [
    "picasso_b = [file.name for file in scandir(f'{DATA_DIR}/Picasso_B') if any(file.name.endswith(ext) for ext in IMAGE_EXT)]\n",
    "if not path.exists(f'{INPUT_DIR_B}/Picasso'):\n",
    "    mkdir(f'{INPUT_DIR_B}/Picasso')\n",
    "\n",
    "for image in picasso_b:\n",
    "    image_path = f'{DATA_DIR}/Picasso_B/{image}'\n",
    "    new_path = f'{INPUT_DIR_B}/Picasso/{image}'\n",
    "    if new_path.endswith('.webp'):\n",
    "        new_path = new_path.replace('.webp', '.jpg')\n",
    " \n",
    "    resize_image(image_path, new_path)\n",
    "\n",
    "for file in scandir(f'{INPUT_DIR_B}/Picasso'):\n",
    "    print(file.name)\n",
    "    "
   ]
  }
 ],
 "metadata": {
  "kernelspec": {
   "display_name": ".venv",
   "language": "python",
   "name": "python3"
  },
  "language_info": {
   "codemirror_mode": {
    "name": "ipython",
    "version": 3
   },
   "file_extension": ".py",
   "mimetype": "text/x-python",
   "name": "python",
   "nbconvert_exporter": "python",
   "pygments_lexer": "ipython3",
   "version": "3.9.13"
  }
 },
 "nbformat": 4,
 "nbformat_minor": 2
}
