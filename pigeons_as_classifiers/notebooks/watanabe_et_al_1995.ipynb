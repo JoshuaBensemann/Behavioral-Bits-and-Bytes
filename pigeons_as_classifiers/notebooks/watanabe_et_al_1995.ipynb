{
 "cells": [
  {
   "cell_type": "code",
   "execution_count": null,
   "metadata": {},
   "outputs": [],
   "source": [
    "# %pip install torch torchvision torchaudio"
   ]
  },
  {
   "cell_type": "code",
   "execution_count": null,
   "metadata": {},
   "outputs": [],
   "source": [
    "import torch\n",
    "import torch.nn as nn\n",
    "import torch.optim as optim\n",
    "from torchvision.models import resnet50\n",
    "from torchvision import datasets, transforms\n",
    "from torch.utils.data import DataLoader"
   ]
  },
  {
   "cell_type": "code",
   "execution_count": null,
   "metadata": {},
   "outputs": [],
   "source": [
    "INPUT_DIR_A = '../data/model_input_a'\n",
    "INPUT_DIR_B = '../data/model_input_b'"
   ]
  },
  {
   "cell_type": "code",
   "execution_count": null,
   "metadata": {},
   "outputs": [],
   "source": [
    "if torch.cuda.is_available():\n",
    "    device = \"cuda\"\n",
    "elif torch.backends.mps.is_available():\n",
    "    device = \"mps\"\n",
    "else:\n",
    "    device = \"cpu\"\n",
    "\n",
    "print(f\"Device: {device}\")"
   ]
  },
  {
   "cell_type": "code",
   "execution_count": null,
   "metadata": {},
   "outputs": [],
   "source": [
    "def get_dataset(data_dir, batch_size=1, random_perspective=0):\n",
    "    # Define the transformation\n",
    "    transform = transforms.Compose([\n",
    "        transforms.RandomPerspective(p=random_perspective),  # Apply a random perspective transformation\n",
    "        transforms.ToTensor()  # Convert the image to a tensor\n",
    "    ])\n",
    "\n",
    "    # Define the dataset\n",
    "    dataset = datasets.ImageFolder(data_dir, transform=transform)\n",
    "\n",
    "    # Verify the classes\n",
    "    classes = dataset.classes\n",
    "    dataset = DataLoader(dataset, batch_size=batch_size, shuffle=True)\n",
    "\n",
    "    return dataset, classes\n",
    "\n"
   ]
  },
  {
   "cell_type": "code",
   "execution_count": null,
   "metadata": {},
   "outputs": [],
   "source": [
    "def prepare_model(name='resnet50', num_classes=2, linear_layer_size=2048):\n",
    "    model = None\n",
    "\n",
    "    if name == 'resnet50':\n",
    "        model = resnet50(weights='ResNet50_Weights.DEFAULT')\n",
    "        \n",
    "    for param in model.parameters():\n",
    "        param.requires_grad = False \n",
    "\n",
    "    model.fc = nn.Linear(linear_layer_size, num_classes)\n",
    "\n",
    "    model.to(device)    \n",
    "\n",
    "    # Define the loss function\n",
    "    criterion = nn.CrossEntropyLoss()\n",
    "\n",
    "    # Define the optimizer\n",
    "    optimizer = optim.SGD(model.fc.parameters(), lr=0.001, momentum=0.9)    \n",
    "\n",
    "    return model, criterion, optimizer"
   ]
  },
  {
   "cell_type": "code",
   "execution_count": null,
   "metadata": {},
   "outputs": [],
   "source": [
    "def training_loop(model, images, labels, optimizer, criterion, running_loss, total, correct):\n",
    "    images = images.to(device)\n",
    "    labels = labels.to(device)\n",
    "    \n",
    "    optimizer.zero_grad()\n",
    "    outputs = model(images)\n",
    "    loss = criterion(outputs, labels)\n",
    "    loss.backward()\n",
    "    optimizer.step()\n",
    "    \n",
    "    running_loss += loss.item()\n",
    "    _, predicted = torch.max(outputs.data, 1)\n",
    "    total += labels.size(0)\n",
    "    correct += (predicted == labels).sum().item()\n",
    "\n",
    "    return running_loss, total, correct"
   ]
  },
  {
   "cell_type": "code",
   "execution_count": null,
   "metadata": {},
   "outputs": [],
   "source": [
    "def evaluate_model(model, testloader, criterion):\n",
    "    correct = 0\n",
    "    total = 0\n",
    "    running_loss = 0.0\n",
    "\n",
    "    with torch.no_grad():\n",
    "        for data in testloader:\n",
    "            images, labels = data\n",
    "            images = images.to(device)\n",
    "            labels = labels.to(device)\n",
    "            outputs = model(images)\n",
    "            loss = criterion(outputs, labels)\n",
    "            running_loss += loss.item()\n",
    "            _, predicted = torch.max(outputs.data, 1)\n",
    "            total += labels.size(0)\n",
    "            correct += (predicted == labels).sum().item()\n",
    "\n",
    "    return running_loss, total, correct"
   ]
  },
  {
   "cell_type": "code",
   "execution_count": null,
   "metadata": {},
   "outputs": [],
   "source": [
    "train_dataset, classes = get_dataset(INPUT_DIR_A, random_perspective=.5)\n",
    "test_dataset, _ = get_dataset(INPUT_DIR_B)\n",
    "model, criterion, optimizer = prepare_model()\n",
    "\n",
    "# Define the number of training epochs\n",
    "num_epochs = 100\n",
    "\n",
    "# Training loop\n",
    "for epoch in range(num_epochs):\n",
    "    running_loss = 0.0\n",
    "    correct = 0\n",
    "    total = 0\n",
    "    \n",
    "    # Set the model to training mode\n",
    "    model.train()\n",
    "    \n",
    "    for images, labels in train_dataset:\n",
    "        running_loss, total, correct = training_loop(model, images, labels, optimizer, criterion, running_loss, total, correct)\n",
    "    \n",
    "    # Compute the accuracy\n",
    "    accuracy = 100 * correct / total\n",
    "    \n",
    "    # Print the loss and accuracy for each epoch\n",
    "    print(f\"Epoch {epoch+1}/{num_epochs}: Loss = {running_loss:.4f}, Accuracy = {accuracy:.2f}%\", end=\", \")\n",
    "\n",
    "    # Set the model to evaluation mode\n",
    "    model.eval()\n",
    "\n",
    "    running_loss, total, correct = evaluate_model(model, test_dataset, criterion)\n",
    "    \n",
    "    # Compute the accuracy\n",
    "    test_accuracy = 100 * correct / total\n",
    "\n",
    "    print(f\"Test Accuracy = {test_accuracy:.2f}%\")\n",
    "\n",
    "    if accuracy > 90:\n",
    "        break\n"
   ]
  }
 ],
 "metadata": {
  "kernelspec": {
   "display_name": ".venv",
   "language": "python",
   "name": "python3"
  },
  "language_info": {
   "codemirror_mode": {
    "name": "ipython",
    "version": 3
   },
   "file_extension": ".py",
   "mimetype": "text/x-python",
   "name": "python",
   "nbconvert_exporter": "python",
   "pygments_lexer": "ipython3",
   "version": "3.9.13"
  }
 },
 "nbformat": 4,
 "nbformat_minor": 2
}
