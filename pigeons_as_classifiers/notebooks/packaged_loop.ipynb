{
 "cells": [
  {
   "cell_type": "code",
   "execution_count": 1,
   "metadata": {},
   "outputs": [],
   "source": [
    "import torch\n",
    "import torch.nn as nn\n",
    "import torch.optim as optim\n",
    "from torchvision.models import resnet50\n",
    "from torch.utils.data import DataLoader\n",
    "from torchvision import datasets, transforms\n",
    "from torchvision.datasets import ImageFolder\n",
    "import torch.nn.functional as F\n",
    "import matplotlib.pyplot as plt\n",
    "\n",
    "import sys\n",
    "\n",
    "sys.path.append('..')\n",
    "\n",
    "from PAC.train import train_model, training_setup\n",
    "from PAC.eval import evaluate_model\n",
    "from PAC.data import get_training_dataset, get_testing_dataset"
   ]
  },
  {
   "cell_type": "code",
   "execution_count": 2,
   "metadata": {},
   "outputs": [],
   "source": [
    "INPUT_DIR_TRAIN = '../data/train_a'\n",
    "INPUT_DIR_TEST = '../data/test_4_a'"
   ]
  },
  {
   "cell_type": "code",
   "execution_count": 3,
   "metadata": {},
   "outputs": [],
   "source": [
    "train_dataset, train_classes = get_training_dataset(INPUT_DIR_TRAIN)"
   ]
  },
  {
   "cell_type": "code",
   "execution_count": 4,
   "metadata": {},
   "outputs": [
    {
     "name": "stdout",
     "output_type": "stream",
     "text": [
      "Device: mps\n",
      "Epoch 1/100: Loss = 13.6166, Accuracy = 47.37%\n",
      "Epoch 2/100: Loss = 13.2585, Accuracy = 52.63%\n",
      "Epoch 3/100: Loss = 12.8287, Accuracy = 57.89%\n",
      "Epoch 4/100: Loss = 13.0439, Accuracy = 52.63%\n",
      "Epoch 5/100: Loss = 11.9308, Accuracy = 63.16%\n",
      "Epoch 6/100: Loss = 11.9429, Accuracy = 73.68%\n",
      "Epoch 7/100: Loss = 10.9684, Accuracy = 78.95%\n",
      "Epoch 8/100: Loss = 10.6991, Accuracy = 78.95%\n",
      "Epoch 9/100: Loss = 11.1935, Accuracy = 78.95%\n",
      "Epoch 10/100: Loss = 10.7612, Accuracy = 84.21%\n",
      "Epoch 11/100: Loss = 10.1169, Accuracy = 89.47%\n",
      "Epoch 12/100: Loss = 9.8861, Accuracy = 89.47%\n",
      "Epoch 13/100: Loss = 10.3544, Accuracy = 73.68%\n",
      "Epoch 14/100: Loss = 10.6181, Accuracy = 84.21%\n",
      "Epoch 15/100: Loss = 10.0343, Accuracy = 73.68%\n",
      "Epoch 16/100: Loss = 9.9412, Accuracy = 78.95%\n",
      "Epoch 17/100: Loss = 9.0215, Accuracy = 89.47%\n",
      "Epoch 18/100: Loss = 9.2306, Accuracy = 89.47%\n",
      "Epoch 19/100: Loss = 8.5826, Accuracy = 94.74%\n"
     ]
    }
   ],
   "source": [
    "# Load the pre-trained ResNet model\n",
    "model = resnet50(weights='ResNet50_Weights.DEFAULT')\n",
    "\n",
    "# Define the number of training epochs\n",
    "num_epochs = 100\n",
    "\n",
    "model, device, criterion, optimizer = training_setup(model, train_classes, lr=0.01)\n",
    "\n",
    "# Training loop\n",
    "for epoch in range(num_epochs):\n",
    "    accuracy, running_loss = train_model(model, train_dataset, device, criterion, optimizer)\n",
    "    \n",
    "    # Print the loss and accuracy for each epoch\n",
    "    print(f\"Epoch {epoch+1}/{num_epochs}: Loss = {running_loss:.4f}, Accuracy = {accuracy:.2f}%\")\n",
    "    if accuracy > 90:\n",
    "        break\n"
   ]
  },
  {
   "cell_type": "code",
   "execution_count": 5,
   "metadata": {},
   "outputs": [
    {
     "name": "stdout",
     "output_type": "stream",
     "text": [
      "Eval\n",
      "Label: Monet, Predicted: Monet, Prob: 76.17%, Match: Correct, Capucines_boulevard.jpg\n",
      "Label: Monet, Predicted: Monet, Prob: 65.47%, Match: Correct, Dinner_of_Sisley.jpg\n",
      "Label: Monet, Predicted: Monet, Prob: 81.96%, Match: Correct, Mrs_Monet.jpg\n",
      "Label: Monet, Predicted: Monet, Prob: 80.72%, Match: Correct, Pears_and_grapes.jpg\n",
      "Label: Monet, Predicted: Monet, Prob: 71.64%, Match: Correct, Plazzo_da_mula_in_Venezia.jpg\n",
      "Label: Monet, Predicted: Monet, Prob: 84.75%, Match: Correct, Pond_of_water_lily.jpg\n",
      "Label: Monet, Predicted: Monet, Prob: 81.77%, Match: Correct, Poplars_of_Giverny.jpg\n",
      "Label: Monet, Predicted: Monet, Prob: 78.96%, Match: Correct, Red_poppy.jpg\n",
      "Label: Monet, Predicted: Monet, Prob: 76.06%, Match: Correct, Terrace_of_Saint-Adresse.jpg\n",
      "Label: Picasso, Predicted: Picasso, Prob: 92.45%, Match: Correct, Girl_with_a_ring.jpg\n",
      "Label: Picasso, Predicted: Monet, Prob: 56.51%, Match: Incorrect, Girls_in_Avignon.jpg\n",
      "Label: Picasso, Predicted: Picasso, Prob: 75.66%, Match: Correct, Guitar-_cup_and_fruits.jpg\n",
      "Label: Picasso, Predicted: Monet, Prob: 60.93%, Match: Incorrect, Man_with_a_violin.jpg\n",
      "Label: Picasso, Predicted: Monet, Prob: 58.02%, Match: Incorrect, Model_and_artist.jpg\n",
      "Label: Picasso, Predicted: Monet, Prob: 54.15%, Match: Incorrect, Nude_woman_under_the_pine_tree.jpg\n",
      "Label: Picasso, Predicted: Monet, Prob: 50.62%, Match: Incorrect, Nude_woman_with_a_comb.jpg\n",
      "Label: Picasso, Predicted: Picasso, Prob: 72.66%, Match: Correct, Still_life_with_a_pan.jpg\n",
      "Label: Picasso, Predicted: Picasso, Prob: 61.05%, Match: Correct, Woman_playing_with_a_vall_on_the_beach.jpg\n",
      "Label: Picasso, Predicted: Monet, Prob: 55.43%, Match: Incorrect, Women_of_Algeria.jpg\n"
     ]
    }
   ],
   "source": [
    "eval_dataloader, eval_classes, eval_dataset = get_testing_dataset(INPUT_DIR_TRAIN)\n",
    "results = evaluate_model(model, eval_dataloader, device, train_classes, eval_classes, eval_dataset=eval_dataset)"
   ]
  },
  {
   "cell_type": "code",
   "execution_count": null,
   "metadata": {},
   "outputs": [],
   "source": [
    "eval_dataloader_1, eval_classes_1, eval_dataset_1 = get_testing_dataset(INPUT_DIR_TRAIN, transform_set='test_1')\n",
    "results = evaluate_model(model, eval_dataloader_1, device, train_classes, eval_classes_1, eval_dataset=eval_dataset_1)"
   ]
  },
  {
   "cell_type": "code",
   "execution_count": 7,
   "metadata": {},
   "outputs": [
    {
     "name": "stdout",
     "output_type": "stream",
     "text": [
      "Test 2\n",
      "Label: Monet, Predicted: Monet, Prob: 74.17%, Match: Correct, Capucines_boulevard.jpg\n",
      "Label: Monet, Predicted: Picasso, Prob: 56.32%, Match: Incorrect, Dinner_of_Sisley.jpg\n",
      "Label: Monet, Predicted: Monet, Prob: 83.88%, Match: Correct, Mrs_Monet.jpg\n",
      "Label: Monet, Predicted: Monet, Prob: 69.9%, Match: Correct, Pears_and_grapes.jpg\n",
      "Label: Monet, Predicted: Monet, Prob: 59.41%, Match: Correct, Plazzo_da_mula_in_Venezia.jpg\n",
      "Label: Monet, Predicted: Monet, Prob: 74.01%, Match: Correct, Pond_of_water_lily.jpg\n",
      "Label: Monet, Predicted: Monet, Prob: 62.67%, Match: Correct, Poplars_of_Giverny.jpg\n",
      "Label: Monet, Predicted: Monet, Prob: 72.98%, Match: Correct, Red_poppy.jpg\n",
      "Label: Monet, Predicted: Monet, Prob: 80.31%, Match: Correct, Terrace_of_Saint-Adresse.jpg\n",
      "Label: Picasso, Predicted: Picasso, Prob: 80.3%, Match: Correct, Girl_with_a_ring.jpg\n",
      "Label: Picasso, Predicted: Monet, Prob: 54.48%, Match: Incorrect, Girls_in_Avignon.jpg\n",
      "Label: Picasso, Predicted: Picasso, Prob: 77.83%, Match: Correct, Guitar-_cup_and_fruits.jpg\n",
      "Label: Picasso, Predicted: Monet, Prob: 55.4%, Match: Incorrect, Man_with_a_violin.jpg\n",
      "Label: Picasso, Predicted: Picasso, Prob: 56.13%, Match: Correct, Model_and_artist.jpg\n",
      "Label: Picasso, Predicted: Picasso, Prob: 55.77%, Match: Correct, Nude_woman_under_the_pine_tree.jpg\n",
      "Label: Picasso, Predicted: Monet, Prob: 66.1%, Match: Incorrect, Nude_woman_with_a_comb.jpg\n",
      "Label: Picasso, Predicted: Picasso, Prob: 71.95%, Match: Correct, Still_life_with_a_pan.jpg\n",
      "Label: Picasso, Predicted: Picasso, Prob: 54.04%, Match: Correct, Woman_playing_with_a_vall_on_the_beach.jpg\n",
      "Label: Picasso, Predicted: Picasso, Prob: 71.01%, Match: Correct, Women_of_Algeria.jpg\n"
     ]
    }
   ],
   "source": [
    "eval_dataloader_2, eval_classes_2, eval_dataset_2 = get_testing_dataset(INPUT_DIR_TRAIN, transform_set='test_2')\n",
    "results = evaluate_model(model, eval_dataloader_2, device, train_classes, eval_classes_2, eval_dataset=eval_dataset_2)"
   ]
  },
  {
   "cell_type": "code",
   "execution_count": 8,
   "metadata": {},
   "outputs": [
    {
     "name": "stdout",
     "output_type": "stream",
     "text": [
      "Test 4\n",
      "Class Labels:\n",
      "0: Braque\n",
      "1: Cezanne\n",
      "2: Delacroix\n",
      "3: New_Monet\n",
      "4: New_Picasso\n",
      "Label: Braque, Predicted: Picasso, Prob: 73.12%, Match: Incorrect, An_easel_and_a_woman.jpg\n",
      "Label: Braque, Predicted: Picasso, Prob: 52.54%, Match: Incorrect, Female_musician.jpg\n",
      "Label: Braque, Predicted: Picasso, Prob: 67.66%, Match: Incorrect, Still_life_with_\"le_Jour\".jpg\n",
      "Label: Cezanne, Predicted: Monet, Prob: 68.68%, Match: Incorrect, Big_water_bathing.jpg\n",
      "Label: Cezanne, Predicted: Picasso, Prob: 53.43%, Match: Incorrect, Sitting_man.jpg\n",
      "Label: Cezanne, Predicted: Monet, Prob: 68.07%, Match: Incorrect, Still_life_with_onions.jpg\n",
      "Label: Delacroix, Predicted: Picasso, Prob: 67.73%, Match: Incorrect, Atelier.jpg\n",
      "Label: Delacroix, Predicted: Monet, Prob: 75.71%, Match: Incorrect, July_28th.jpg\n",
      "Label: Delacroix, Predicted: Monet, Prob: 76.67%, Match: Incorrect, Still_life_with_a_lobster.jpg\n",
      "Label: New_Monet, Predicted: Monet, Prob: 77.1%, Match: Correct, La_Grenouillere.jpg\n",
      "Label: New_Monet, Predicted: Monet, Prob: 81.96%, Match: Correct, Lady_with_parasole.jpg\n",
      "Label: New_Monet, Predicted: Monet, Prob: 92.26%, Match: Correct, Water_lily.jpg\n",
      "Label: New_Picasso, Predicted: Picasso, Prob: 70.5%, Match: Correct, Dance.jpg\n",
      "Label: New_Picasso, Predicted: Picasso, Prob: 84.25%, Match: Correct, Still_life_with_an_ox_head.jpg\n",
      "Label: New_Picasso, Predicted: Picasso, Prob: 64.64%, Match: Correct, Woman_looking_at_the_glass.jpg\n"
     ]
    }
   ],
   "source": [
    "eval_dataloader_4, eval_classes_4, eval_dataset_4 = get_testing_dataset(INPUT_DIR_TEST, transform_set='test_4', verbose=True)\n",
    "results = evaluate_model(model, eval_dataloader_4, device, train_classes, eval_classes_4, eval_dataset=eval_dataset_4)"
   ]
  },
  {
   "cell_type": "code",
   "execution_count": null,
   "metadata": {},
   "outputs": [],
   "source": []
  }
 ],
 "metadata": {
  "kernelspec": {
   "display_name": ".venv",
   "language": "python",
   "name": "python3"
  },
  "language_info": {
   "codemirror_mode": {
    "name": "ipython",
    "version": 3
   },
   "file_extension": ".py",
   "mimetype": "text/x-python",
   "name": "python",
   "nbconvert_exporter": "python",
   "pygments_lexer": "ipython3",
   "version": "3.10.10"
  }
 },
 "nbformat": 4,
 "nbformat_minor": 2
}
