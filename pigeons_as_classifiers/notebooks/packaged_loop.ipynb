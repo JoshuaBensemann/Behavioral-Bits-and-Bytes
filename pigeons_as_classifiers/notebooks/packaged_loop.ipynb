{
 "cells": [
  {
   "cell_type": "code",
   "execution_count": 1,
   "metadata": {},
   "outputs": [],
   "source": [
    "import torch\n",
    "import torch.nn as nn\n",
    "import torch.optim as optim\n",
    "from torchvision.models import resnet50\n",
    "from torch.utils.data import DataLoader\n",
    "from torchvision import datasets, transforms\n",
    "from torchvision.datasets import ImageFolder\n",
    "import torch.nn.functional as F\n",
    "\n",
    "import sys\n",
    "\n",
    "sys.path.append('..')\n",
    "\n",
    "from PAC.train import train_model, training_setup\n",
    "from PAC.eval import evaluate_model"
   ]
  },
  {
   "cell_type": "code",
   "execution_count": 2,
   "metadata": {},
   "outputs": [],
   "source": [
    "INPUT_DIR_A = '../data/train_a'\n",
    "INPUT_DIR_TEST = '../data/test_4_a'"
   ]
  },
  {
   "cell_type": "code",
   "execution_count": 3,
   "metadata": {},
   "outputs": [
    {
     "name": "stdout",
     "output_type": "stream",
     "text": [
      "['Monet', 'Picasso']\n"
     ]
    }
   ],
   "source": [
    "# Define the batch size\n",
    "batch_size = 1\n",
    "\n",
    "# Define the transformation\n",
    "transform = transforms.Compose([\n",
    "    transforms.RandomPerspective(p=1),  # Apply a random perspective transformation\n",
    "    transforms.ToTensor(),  # Convert the image to a tensor\n",
    "    #transforms.Normalize(mean=[0.485, 0.456, 0.406], std=[0.229, 0.224, 0.225]),  # Normalize the image\n",
    "])\n",
    "\n",
    "# Define the dataset\n",
    "dataset = datasets.ImageFolder(INPUT_DIR_A, transform=transform)\n",
    "\n",
    "# Verify the classes\n",
    "train_classes = dataset.classes\n",
    "print(train_classes)\n",
    "\n",
    "dataset = DataLoader(dataset, batch_size=batch_size, shuffle=True)\n"
   ]
  },
  {
   "cell_type": "code",
   "execution_count": 4,
   "metadata": {},
   "outputs": [
    {
     "name": "stdout",
     "output_type": "stream",
     "text": [
      "Device: mps\n",
      "Epoch 1/100: Loss = 13.6650, Accuracy = 52.63%\n",
      "Epoch 2/100: Loss = 13.4019, Accuracy = 47.37%\n",
      "Epoch 3/100: Loss = 12.7568, Accuracy = 63.16%\n",
      "Epoch 4/100: Loss = 12.2346, Accuracy = 68.42%\n",
      "Epoch 5/100: Loss = 12.0946, Accuracy = 78.95%\n",
      "Epoch 6/100: Loss = 11.8387, Accuracy = 73.68%\n",
      "Epoch 7/100: Loss = 10.6175, Accuracy = 84.21%\n",
      "Epoch 8/100: Loss = 10.8328, Accuracy = 73.68%\n",
      "Epoch 9/100: Loss = 10.9602, Accuracy = 78.95%\n",
      "Epoch 10/100: Loss = 10.0185, Accuracy = 84.21%\n",
      "Epoch 11/100: Loss = 9.6126, Accuracy = 78.95%\n",
      "Epoch 12/100: Loss = 9.9116, Accuracy = 89.47%\n",
      "Epoch 13/100: Loss = 9.7366, Accuracy = 84.21%\n",
      "Epoch 14/100: Loss = 9.6051, Accuracy = 89.47%\n",
      "Epoch 15/100: Loss = 9.5978, Accuracy = 84.21%\n",
      "Epoch 16/100: Loss = 8.9329, Accuracy = 89.47%\n",
      "Epoch 17/100: Loss = 9.5636, Accuracy = 84.21%\n",
      "Epoch 18/100: Loss = 9.0991, Accuracy = 73.68%\n",
      "Epoch 19/100: Loss = 9.3378, Accuracy = 78.95%\n",
      "Epoch 20/100: Loss = 7.0850, Accuracy = 100.00%\n"
     ]
    }
   ],
   "source": [
    "# Load the pre-trained ResNet model\n",
    "model = resnet50(weights='ResNet50_Weights.DEFAULT')\n",
    "\n",
    "# Define the number of training epochs\n",
    "num_epochs = 100\n",
    "\n",
    "model, device, criterion, optimizer = training_setup(model, train_classes, lr=0.01)\n",
    "\n",
    "# Training loop\n",
    "for epoch in range(num_epochs):\n",
    "    accuracy, running_loss = train_model(model, dataset, device, criterion, optimizer)\n",
    "    \n",
    "    # Print the loss and accuracy for each epoch\n",
    "    print(f\"Epoch {epoch+1}/{num_epochs}: Loss = {running_loss:.4f}, Accuracy = {accuracy:.2f}%\")\n",
    "    if accuracy > 90:\n",
    "        break\n"
   ]
  },
  {
   "cell_type": "code",
   "execution_count": 5,
   "metadata": {},
   "outputs": [],
   "source": [
    "# Define transformations for the test data\n",
    "test_transforms = transforms.Compose([\n",
    "    transforms.ToTensor(),\n",
    "])\n",
    "\n",
    "# Load the test dataset\n",
    "#test_dataset = ImageFolder(INPUT_DIR_TEST, transform=test_transforms)\n",
    "test_dataset = ImageFolder(INPUT_DIR_TEST, transform=test_transforms)\n",
    "eval_classes = test_dataset.classes\n",
    "\n",
    "# Create a DataLoader for the test dataset\n",
    "eval_dataloader = DataLoader(test_dataset, batch_size=1)\n"
   ]
  },
  {
   "cell_type": "code",
   "execution_count": 6,
   "metadata": {},
   "outputs": [
    {
     "name": "stdout",
     "output_type": "stream",
     "text": [
      "Actual: Braque, Predicted: Picasso 59.82%\n",
      "Actual: Braque, Predicted: Monet 55.85%\n",
      "Actual: Braque, Predicted: Picasso 62.27%\n",
      "Actual: Cezanne, Predicted: Monet 72.02%\n",
      "Actual: Cezanne, Predicted: Monet 58.74%\n",
      "Actual: Cezanne, Predicted: Monet 62.82%\n",
      "Actual: Delacroix, Predicted: Picasso 61.05%\n",
      "Actual: Delacroix, Predicted: Monet 72.65%\n",
      "Actual: Delacroix, Predicted: Monet 78.36%\n",
      "Actual: New_Monet, Predicted: Monet 89.32%\n",
      "Actual: New_Monet, Predicted: Monet 77.64%\n",
      "Actual: New_Monet, Predicted: Monet 89.74%\n",
      "Actual: New_Picasso, Predicted: Picasso 74.38%\n",
      "Actual: New_Picasso, Predicted: Picasso 81.77%\n",
      "Actual: New_Picasso, Predicted: Picasso 55.81%\n"
     ]
    }
   ],
   "source": [
    "results = evaluate_model(model, eval_dataloader, device, train_classes, eval_classes)\n"
   ]
  },
  {
   "cell_type": "code",
   "execution_count": null,
   "metadata": {},
   "outputs": [],
   "source": []
  }
 ],
 "metadata": {
  "kernelspec": {
   "display_name": ".venv",
   "language": "python",
   "name": "python3"
  },
  "language_info": {
   "codemirror_mode": {
    "name": "ipython",
    "version": 3
   },
   "file_extension": ".py",
   "mimetype": "text/x-python",
   "name": "python",
   "nbconvert_exporter": "python",
   "pygments_lexer": "ipython3",
   "version": "3.10.10"
  }
 },
 "nbformat": 4,
 "nbformat_minor": 2
}
