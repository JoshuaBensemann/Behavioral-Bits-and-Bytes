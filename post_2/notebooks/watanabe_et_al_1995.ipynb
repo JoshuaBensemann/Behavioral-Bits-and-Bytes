{
 "cells": [
  {
   "cell_type": "code",
   "execution_count": 36,
   "metadata": {},
   "outputs": [],
   "source": [
    "# %pip install torch torchvision torchaudio"
   ]
  },
  {
   "cell_type": "code",
   "execution_count": 37,
   "metadata": {},
   "outputs": [],
   "source": [
    "import torch\n",
    "import torch.nn as nn\n",
    "import torch.optim as optim\n",
    "from torchvision.models import resnet50"
   ]
  },
  {
   "cell_type": "code",
   "execution_count": 38,
   "metadata": {},
   "outputs": [],
   "source": [
    "INPUT_DIR_A = '../data/model_input_a'"
   ]
  },
  {
   "cell_type": "code",
   "execution_count": 39,
   "metadata": {},
   "outputs": [
    {
     "name": "stdout",
     "output_type": "stream",
     "text": [
      "['Monet', 'Picasso']\n"
     ]
    }
   ],
   "source": [
    "import torch\n",
    "from torchvision import datasets, transforms\n",
    "from torch.utils.data import DataLoader\n",
    "\n",
    "# Define the batch size\n",
    "batch_size = 1\n",
    "\n",
    "# Define the transformation\n",
    "transform = transforms.Compose([\n",
    "    transforms.RandomPerspective(),  # Apply a random perspective transformation\n",
    "    transforms.ToTensor()  # Convert the image to a tensor\n",
    "])\n",
    "\n",
    "# Define the dataset\n",
    "dataset = datasets.ImageFolder(INPUT_DIR_A, transform=transform)\n",
    "\n",
    "# Verify the classes\n",
    "classes = dataset.classes\n",
    "print(classes)\n",
    "\n",
    "dataset = DataLoader(dataset, batch_size=batch_size, shuffle=True)\n"
   ]
  },
  {
   "cell_type": "code",
   "execution_count": 40,
   "metadata": {},
   "outputs": [
    {
     "name": "stdout",
     "output_type": "stream",
     "text": [
      "Device: mps\n",
      "Epoch 1/100: Loss = 22.3162, Accuracy = 52.63%\n",
      "Epoch 2/100: Loss = 15.8583, Accuracy = 52.63%\n",
      "Epoch 3/100: Loss = 16.9821, Accuracy = 36.84%\n",
      "Epoch 4/100: Loss = 16.6657, Accuracy = 47.37%\n",
      "Epoch 5/100: Loss = 17.7350, Accuracy = 42.11%\n",
      "Epoch 6/100: Loss = 29.8824, Accuracy = 36.84%\n",
      "Epoch 7/100: Loss = 15.2798, Accuracy = 36.84%\n",
      "Epoch 8/100: Loss = 16.6746, Accuracy = 42.11%\n",
      "Epoch 9/100: Loss = 18.4215, Accuracy = 57.89%\n",
      "Epoch 10/100: Loss = 15.6151, Accuracy = 36.84%\n",
      "Epoch 11/100: Loss = 16.5076, Accuracy = 57.89%\n",
      "Epoch 12/100: Loss = 27.5730, Accuracy = 52.63%\n",
      "Epoch 13/100: Loss = 12.3275, Accuracy = 63.16%\n",
      "Epoch 14/100: Loss = 28.5270, Accuracy = 57.89%\n",
      "Epoch 15/100: Loss = 15.5062, Accuracy = 36.84%\n",
      "Epoch 16/100: Loss = 19.6467, Accuracy = 36.84%\n",
      "Epoch 17/100: Loss = 23.3466, Accuracy = 52.63%\n",
      "Epoch 18/100: Loss = 23.9184, Accuracy = 42.11%\n",
      "Epoch 19/100: Loss = 22.1657, Accuracy = 15.79%\n",
      "Epoch 20/100: Loss = 22.9664, Accuracy = 42.11%\n",
      "Epoch 21/100: Loss = 13.9528, Accuracy = 52.63%\n",
      "Epoch 22/100: Loss = 13.8453, Accuracy = 57.89%\n",
      "Epoch 23/100: Loss = 21.9985, Accuracy = 47.37%\n",
      "Epoch 24/100: Loss = 15.8003, Accuracy = 68.42%\n",
      "Epoch 25/100: Loss = 17.7710, Accuracy = 52.63%\n",
      "Epoch 26/100: Loss = 10.6093, Accuracy = 78.95%\n",
      "Epoch 27/100: Loss = 10.8774, Accuracy = 68.42%\n",
      "Epoch 28/100: Loss = 16.2996, Accuracy = 36.84%\n",
      "Epoch 29/100: Loss = 14.5550, Accuracy = 47.37%\n",
      "Epoch 30/100: Loss = 17.7900, Accuracy = 63.16%\n",
      "Epoch 31/100: Loss = 17.3322, Accuracy = 47.37%\n",
      "Epoch 32/100: Loss = 17.4552, Accuracy = 42.11%\n",
      "Epoch 33/100: Loss = 13.0147, Accuracy = 78.95%\n",
      "Epoch 34/100: Loss = 37.4345, Accuracy = 47.37%\n",
      "Epoch 35/100: Loss = 12.6681, Accuracy = 63.16%\n",
      "Epoch 36/100: Loss = 10.8263, Accuracy = 78.95%\n",
      "Epoch 37/100: Loss = 36.7633, Accuracy = 36.84%\n",
      "Epoch 38/100: Loss = 13.8243, Accuracy = 57.89%\n"
     ]
    }
   ],
   "source": [
    "if torch.cuda.is_available():\n",
    "    device = \"cuda\"\n",
    "elif torch.backends.mps.is_available():\n",
    "    device = \"mps\"\n",
    "else:\n",
    "    device = \"cpu\"\n",
    "\n",
    "print(f\"Device: {device}\")\n",
    "\n",
    "# Load the pre-trained ResNet model\n",
    "model = resnet50(pretrained=True)\n",
    "\n",
    "# Freeze all the parameters in the pre-trained model\n",
    "for param in model.parameters():\n",
    "    param.requires_grad = False\n",
    "\n",
    "# Modify the last fully connected layer to match the number of classes in your dataset\n",
    "num_classes = len(classes)\n",
    "model.fc = nn.Linear(model.fc.in_features, num_classes)\n",
    "model.to(device)\n",
    "\n",
    "# Define the loss function\n",
    "criterion = nn.CrossEntropyLoss()\n",
    "\n",
    "# Define the optimizer\n",
    "optimizer = optim.SGD(model.fc.parameters(), lr=0.001, momentum=0.9)\n",
    "\n",
    "# Define the number of training epochs\n",
    "num_epochs = 100\n",
    "\n",
    "# Training loop\n",
    "for epoch in range(num_epochs):\n",
    "    running_loss = 0.0\n",
    "    correct = 0\n",
    "    total = 0\n",
    "    \n",
    "    # Set the model to training mode\n",
    "    model.train()\n",
    "\n",
    "    \n",
    "    for images, labels in dataset:\n",
    "        # Move the images and labels to the GPU if available\n",
    "        images = images.to(device)\n",
    "        labels = labels.to(device)\n",
    "        \n",
    "        # Zero the gradients\n",
    "        optimizer.zero_grad()\n",
    "        \n",
    "        # Forward pass\n",
    "        outputs = model(images)\n",
    "        \n",
    "        # Compute the loss\n",
    "        loss = criterion(outputs, labels)\n",
    "        \n",
    "        # Backward pass\n",
    "        loss.backward()\n",
    "        \n",
    "        # Update the weights\n",
    "        optimizer.step()\n",
    "        \n",
    "        # Update the running loss\n",
    "        running_loss += loss.item()\n",
    "        \n",
    "        # Compute the predicted labels\n",
    "        _, predicted = torch.max(outputs.data, 1)\n",
    "        \n",
    "        # Update the total and correct predictions\n",
    "        total += labels.size(0)\n",
    "        correct += (predicted == labels).sum().item()\n",
    "    \n",
    "    # Compute the accuracy\n",
    "    accuracy = 100 * correct / total\n",
    "    \n",
    "    # Print the loss and accuracy for each epoch\n",
    "    print(f\"Epoch {epoch+1}/{num_epochs}: Loss = {running_loss:.4f}, Accuracy = {accuracy:.2f}%\")\n",
    "    if accuracy > 90:\n",
    "        break\n"
   ]
  }
 ],
 "metadata": {
  "kernelspec": {
   "display_name": ".venv",
   "language": "python",
   "name": "python3"
  },
  "language_info": {
   "codemirror_mode": {
    "name": "ipython",
    "version": 3
   },
   "file_extension": ".py",
   "mimetype": "text/x-python",
   "name": "python",
   "nbconvert_exporter": "python",
   "pygments_lexer": "ipython3",
   "version": "3.10.10"
  }
 },
 "nbformat": 4,
 "nbformat_minor": 2
}
