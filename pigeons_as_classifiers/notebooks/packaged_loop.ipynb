{
 "cells": [
  {
   "cell_type": "code",
   "execution_count": 1,
   "metadata": {},
   "outputs": [],
   "source": [
    "import sys\n",
    "\n",
    "sys.path.append('..')\n",
    "\n",
    "from torchvision.models import resnet50\n",
    "from PAC.train import train_model, training_setup\n",
    "from PAC.eval import evaluate_model\n",
    "from PAC.data import get_training_dataset, get_testing_dataset"
   ]
  },
  {
   "cell_type": "code",
   "execution_count": 2,
   "metadata": {},
   "outputs": [],
   "source": [
    "INPUT_DIR_TRAIN = '../data/train_a'\n",
    "INPUT_DIR_TEST = '../data/test_4_a'"
   ]
  },
  {
   "cell_type": "code",
   "execution_count": 3,
   "metadata": {},
   "outputs": [],
   "source": [
    "train_dataset, train_classes = get_training_dataset(INPUT_DIR_TRAIN)"
   ]
  },
  {
   "cell_type": "code",
   "execution_count": 4,
   "metadata": {},
   "outputs": [
    {
     "name": "stdout",
     "output_type": "stream",
     "text": [
      "Device: mps\n",
      "Epoch 1/100: Loss = 13.9476, Accuracy = 52.63%\n",
      "Epoch 2/100: Loss = 13.3735, Accuracy = 57.89%\n",
      "Epoch 3/100: Loss = 12.4771, Accuracy = 57.89%\n",
      "Epoch 4/100: Loss = 12.8107, Accuracy = 52.63%\n",
      "Epoch 5/100: Loss = 11.7438, Accuracy = 63.16%\n",
      "Epoch 6/100: Loss = 11.8918, Accuracy = 68.42%\n",
      "Epoch 7/100: Loss = 11.9656, Accuracy = 78.95%\n",
      "Epoch 8/100: Loss = 11.0762, Accuracy = 78.95%\n",
      "Epoch 9/100: Loss = 11.1408, Accuracy = 73.68%\n",
      "Epoch 10/100: Loss = 10.3649, Accuracy = 84.21%\n",
      "Epoch 11/100: Loss = 10.0006, Accuracy = 89.47%\n",
      "Epoch 12/100: Loss = 9.5941, Accuracy = 84.21%\n",
      "Epoch 13/100: Loss = 10.4849, Accuracy = 89.47%\n",
      "Epoch 14/100: Loss = 9.6956, Accuracy = 89.47%\n",
      "Epoch 15/100: Loss = 9.9330, Accuracy = 89.47%\n",
      "Epoch 16/100: Loss = 8.1321, Accuracy = 100.00%\n"
     ]
    }
   ],
   "source": [
    "# Load the pre-trained ResNet model\n",
    "model = resnet50(weights='ResNet50_Weights.DEFAULT')\n",
    "\n",
    "# Define the number of training epochs\n",
    "num_epochs = 100\n",
    "\n",
    "model, device, criterion, optimizer = training_setup(model, train_classes, lr=0.01)\n",
    "\n",
    "# Training loop\n",
    "for epoch in range(num_epochs):\n",
    "    accuracy, running_loss = train_model(model, train_dataset, device, criterion, optimizer)\n",
    "    \n",
    "    # Print the loss and accuracy for each epoch\n",
    "    print(f\"Epoch {epoch+1}/{num_epochs}: Loss = {running_loss:.4f}, Accuracy = {accuracy:.2f}%\")\n",
    "    if accuracy > 90:\n",
    "        break\n"
   ]
  },
  {
   "cell_type": "code",
   "execution_count": 5,
   "metadata": {},
   "outputs": [
    {
     "name": "stdout",
     "output_type": "stream",
     "text": [
      "Label: Monet, Predicted: Monet, Prob: 69.74%, Match: Correct, Capucines_boulevard.jpg\n",
      "Label: Monet, Predicted: Monet, Prob: 65.56%, Match: Correct, Dinner_of_Sisley.jpg\n",
      "Label: Monet, Predicted: Monet, Prob: 76.89%, Match: Correct, Mrs_Monet.jpg\n",
      "Label: Monet, Predicted: Monet, Prob: 71.5%, Match: Correct, Pears_and_grapes.jpg\n",
      "Label: Monet, Predicted: Monet, Prob: 61.73%, Match: Correct, Plazzo_da_mula_in_Venezia.jpg\n",
      "Label: Monet, Predicted: Monet, Prob: 79.32%, Match: Correct, Pond_of_water_lily.jpg\n",
      "Label: Monet, Predicted: Monet, Prob: 78.06%, Match: Correct, Poplars_of_Giverny.jpg\n",
      "Label: Monet, Predicted: Monet, Prob: 74.04%, Match: Correct, Red_poppy.jpg\n",
      "Label: Monet, Predicted: Monet, Prob: 70.99%, Match: Correct, Terrace_of_Saint-Adresse.jpg\n",
      "Label: Picasso, Predicted: Picasso, Prob: 82.68%, Match: Correct, Girl_with_a_ring.jpg\n",
      "Label: Picasso, Predicted: Picasso, Prob: 50.88%, Match: Correct, Girls_in_Avignon.jpg\n",
      "Label: Picasso, Predicted: Picasso, Prob: 71.65%, Match: Correct, Guitar-_cup_and_fruits.jpg\n",
      "Label: Picasso, Predicted: Monet, Prob: 60.24%, Match: Incorrect, Man_with_a_violin.jpg\n",
      "Label: Picasso, Predicted: Monet, Prob: 52.61%, Match: Incorrect, Model_and_artist.jpg\n",
      "Label: Picasso, Predicted: Monet, Prob: 53.15%, Match: Incorrect, Nude_woman_under_the_pine_tree.jpg\n",
      "Label: Picasso, Predicted: Monet, Prob: 52.68%, Match: Incorrect, Nude_woman_with_a_comb.jpg\n",
      "Label: Picasso, Predicted: Picasso, Prob: 70.31%, Match: Correct, Still_life_with_a_pan.jpg\n",
      "Label: Picasso, Predicted: Picasso, Prob: 66.57%, Match: Correct, Woman_playing_with_a_vall_on_the_beach.jpg\n",
      "Label: Picasso, Predicted: Monet, Prob: 52.7%, Match: Incorrect, Women_of_Algeria.jpg\n"
     ]
    }
   ],
   "source": [
    "eval_dataloader, eval_classes, eval_dataset = get_testing_dataset(INPUT_DIR_TRAIN)\n",
    "results = evaluate_model(model, eval_dataloader, device, train_classes, eval_classes, eval_dataset=eval_dataset)"
   ]
  },
  {
   "cell_type": "code",
   "execution_count": 6,
   "metadata": {},
   "outputs": [
    {
     "name": "stdout",
     "output_type": "stream",
     "text": [
      "Label: Monet, Predicted: Monet, Prob: 74.32%, Match: Correct, Capucines_boulevard.jpg\n",
      "Label: Monet, Predicted: Monet, Prob: 55.58%, Match: Correct, Dinner_of_Sisley.jpg\n",
      "Label: Monet, Predicted: Monet, Prob: 59.46%, Match: Correct, Mrs_Monet.jpg\n",
      "Label: Monet, Predicted: Monet, Prob: 66.6%, Match: Correct, Pears_and_grapes.jpg\n",
      "Label: Monet, Predicted: Monet, Prob: 53.85%, Match: Correct, Plazzo_da_mula_in_Venezia.jpg\n",
      "Label: Monet, Predicted: Monet, Prob: 75.45%, Match: Correct, Pond_of_water_lily.jpg\n",
      "Label: Monet, Predicted: Monet, Prob: 63.58%, Match: Correct, Poplars_of_Giverny.jpg\n",
      "Label: Monet, Predicted: Monet, Prob: 73.52%, Match: Correct, Red_poppy.jpg\n",
      "Label: Monet, Predicted: Monet, Prob: 77.37%, Match: Correct, Terrace_of_Saint-Adresse.jpg\n",
      "Label: Picasso, Predicted: Picasso, Prob: 73.93%, Match: Correct, Girl_with_a_ring.jpg\n",
      "Label: Picasso, Predicted: Picasso, Prob: 60.28%, Match: Correct, Girls_in_Avignon.jpg\n",
      "Label: Picasso, Predicted: Picasso, Prob: 74.49%, Match: Correct, Guitar-_cup_and_fruits.jpg\n",
      "Label: Picasso, Predicted: Monet, Prob: 52.55%, Match: Incorrect, Man_with_a_violin.jpg\n",
      "Label: Picasso, Predicted: Monet, Prob: 56.47%, Match: Incorrect, Model_and_artist.jpg\n",
      "Label: Picasso, Predicted: Picasso, Prob: 56.31%, Match: Correct, Nude_woman_under_the_pine_tree.jpg\n",
      "Label: Picasso, Predicted: Picasso, Prob: 66.16%, Match: Correct, Nude_woman_with_a_comb.jpg\n",
      "Label: Picasso, Predicted: Picasso, Prob: 64.82%, Match: Correct, Still_life_with_a_pan.jpg\n",
      "Label: Picasso, Predicted: Picasso, Prob: 68.3%, Match: Correct, Woman_playing_with_a_vall_on_the_beach.jpg\n",
      "Label: Picasso, Predicted: Picasso, Prob: 50.58%, Match: Correct, Women_of_Algeria.jpg\n"
     ]
    }
   ],
   "source": [
    "eval_dataloader_1, eval_classes_1, eval_dataset_1 = get_testing_dataset(INPUT_DIR_TRAIN, transform_set='test_1')\n",
    "results = evaluate_model(model, eval_dataloader_1, device, train_classes, eval_classes_1, eval_dataset=eval_dataset_1)"
   ]
  },
  {
   "cell_type": "code",
   "execution_count": 7,
   "metadata": {},
   "outputs": [
    {
     "name": "stdout",
     "output_type": "stream",
     "text": [
      "Label: Monet, Predicted: Monet, Prob: 70.44%, Match: Correct, Capucines_boulevard.jpg\n",
      "Label: Monet, Predicted: Monet, Prob: 54.3%, Match: Correct, Dinner_of_Sisley.jpg\n",
      "Label: Monet, Predicted: Monet, Prob: 77.1%, Match: Correct, Mrs_Monet.jpg\n",
      "Label: Monet, Predicted: Monet, Prob: 69.3%, Match: Correct, Pears_and_grapes.jpg\n",
      "Label: Monet, Predicted: Monet, Prob: 58.41%, Match: Correct, Plazzo_da_mula_in_Venezia.jpg\n",
      "Label: Monet, Predicted: Monet, Prob: 67.95%, Match: Correct, Pond_of_water_lily.jpg\n",
      "Label: Monet, Predicted: Monet, Prob: 69.36%, Match: Correct, Poplars_of_Giverny.jpg\n",
      "Label: Monet, Predicted: Monet, Prob: 64.23%, Match: Correct, Red_poppy.jpg\n",
      "Label: Monet, Predicted: Monet, Prob: 74.64%, Match: Correct, Terrace_of_Saint-Adresse.jpg\n",
      "Label: Picasso, Predicted: Picasso, Prob: 71.15%, Match: Correct, Girl_with_a_ring.jpg\n",
      "Label: Picasso, Predicted: Picasso, Prob: 52.39%, Match: Correct, Girls_in_Avignon.jpg\n",
      "Label: Picasso, Predicted: Picasso, Prob: 86.69%, Match: Correct, Guitar-_cup_and_fruits.jpg\n",
      "Label: Picasso, Predicted: Monet, Prob: 54.28%, Match: Incorrect, Man_with_a_violin.jpg\n",
      "Label: Picasso, Predicted: Monet, Prob: 50.39%, Match: Incorrect, Model_and_artist.jpg\n",
      "Label: Picasso, Predicted: Monet, Prob: 50.74%, Match: Incorrect, Nude_woman_under_the_pine_tree.jpg\n",
      "Label: Picasso, Predicted: Monet, Prob: 61.18%, Match: Incorrect, Nude_woman_with_a_comb.jpg\n",
      "Label: Picasso, Predicted: Picasso, Prob: 61.51%, Match: Correct, Still_life_with_a_pan.jpg\n",
      "Label: Picasso, Predicted: Picasso, Prob: 63.18%, Match: Correct, Woman_playing_with_a_vall_on_the_beach.jpg\n",
      "Label: Picasso, Predicted: Picasso, Prob: 63.31%, Match: Correct, Women_of_Algeria.jpg\n"
     ]
    }
   ],
   "source": [
    "eval_dataloader_2, eval_classes_2, eval_dataset_2 = get_testing_dataset(INPUT_DIR_TRAIN, transform_set='test_2')\n",
    "results = evaluate_model(model, eval_dataloader_2, device, train_classes, eval_classes_2, eval_dataset=eval_dataset_2)"
   ]
  },
  {
   "cell_type": "code",
   "execution_count": 11,
   "metadata": {},
   "outputs": [
    {
     "name": "stdout",
     "output_type": "stream",
     "text": [
      "Label: Monet, Predicted: Monet, Prob: 70.16%, Match: Correct, Capucines_boulevard.jpg\n",
      "Label: Monet, Predicted: Monet, Prob: 62.7%, Match: Correct, Dinner_of_Sisley.jpg\n",
      "Label: Monet, Predicted: Monet, Prob: 75.64%, Match: Correct, Mrs_Monet.jpg\n",
      "Label: Monet, Predicted: Monet, Prob: 74.63%, Match: Correct, Pears_and_grapes.jpg\n",
      "Label: Monet, Predicted: Monet, Prob: 55.79%, Match: Correct, Plazzo_da_mula_in_Venezia.jpg\n",
      "Label: Monet, Predicted: Monet, Prob: 78.4%, Match: Correct, Pond_of_water_lily.jpg\n",
      "Label: Monet, Predicted: Monet, Prob: 72.56%, Match: Correct, Poplars_of_Giverny.jpg\n",
      "Label: Monet, Predicted: Monet, Prob: 72.08%, Match: Correct, Red_poppy.jpg\n",
      "Label: Monet, Predicted: Monet, Prob: 72.34%, Match: Correct, Terrace_of_Saint-Adresse.jpg\n",
      "Label: Picasso, Predicted: Picasso, Prob: 64.12%, Match: Correct, Girl_with_a_ring.jpg\n",
      "Label: Picasso, Predicted: Picasso, Prob: 56.86%, Match: Correct, Girls_in_Avignon.jpg\n",
      "Label: Picasso, Predicted: Picasso, Prob: 70.5%, Match: Correct, Guitar-_cup_and_fruits.jpg\n",
      "Label: Picasso, Predicted: Monet, Prob: 66.67%, Match: Incorrect, Man_with_a_violin.jpg\n",
      "Label: Picasso, Predicted: Monet, Prob: 58.28%, Match: Incorrect, Model_and_artist.jpg\n",
      "Label: Picasso, Predicted: Picasso, Prob: 51.46%, Match: Correct, Nude_woman_under_the_pine_tree.jpg\n",
      "Label: Picasso, Predicted: Picasso, Prob: 58.44%, Match: Correct, Nude_woman_with_a_comb.jpg\n",
      "Label: Picasso, Predicted: Picasso, Prob: 56.73%, Match: Correct, Still_life_with_a_pan.jpg\n",
      "Label: Picasso, Predicted: Picasso, Prob: 67.57%, Match: Correct, Woman_playing_with_a_vall_on_the_beach.jpg\n",
      "Label: Picasso, Predicted: Picasso, Prob: 60.92%, Match: Correct, Women_of_Algeria.jpg\n"
     ]
    }
   ],
   "source": [
    "eval_dataloader_3v, eval_classes_3v, eval_dataset_3v = get_testing_dataset(INPUT_DIR_TRAIN, transform_set='test_3_vertical_flip')\n",
    "results = evaluate_model(model, eval_dataloader_3v, device, train_classes, eval_classes_3v, eval_dataset=eval_dataset_3v)"
   ]
  },
  {
   "cell_type": "code",
   "execution_count": 12,
   "metadata": {},
   "outputs": [
    {
     "name": "stdout",
     "output_type": "stream",
     "text": [
      "Label: Monet, Predicted: Monet, Prob: 71.54%, Match: Correct, Capucines_boulevard.jpg\n",
      "Label: Monet, Predicted: Monet, Prob: 58.86%, Match: Correct, Dinner_of_Sisley.jpg\n",
      "Label: Monet, Predicted: Monet, Prob: 75.67%, Match: Correct, Mrs_Monet.jpg\n",
      "Label: Monet, Predicted: Monet, Prob: 74.27%, Match: Correct, Pears_and_grapes.jpg\n",
      "Label: Monet, Predicted: Monet, Prob: 62.01%, Match: Correct, Plazzo_da_mula_in_Venezia.jpg\n",
      "Label: Monet, Predicted: Monet, Prob: 77.26%, Match: Correct, Pond_of_water_lily.jpg\n",
      "Label: Monet, Predicted: Monet, Prob: 70.35%, Match: Correct, Poplars_of_Giverny.jpg\n",
      "Label: Monet, Predicted: Monet, Prob: 72.08%, Match: Correct, Red_poppy.jpg\n",
      "Label: Monet, Predicted: Monet, Prob: 78.64%, Match: Correct, Terrace_of_Saint-Adresse.jpg\n",
      "Label: Picasso, Predicted: Picasso, Prob: 68.76%, Match: Correct, Girl_with_a_ring.jpg\n",
      "Label: Picasso, Predicted: Picasso, Prob: 52.74%, Match: Correct, Girls_in_Avignon.jpg\n",
      "Label: Picasso, Predicted: Picasso, Prob: 76.79%, Match: Correct, Guitar-_cup_and_fruits.jpg\n",
      "Label: Picasso, Predicted: Monet, Prob: 63.26%, Match: Incorrect, Man_with_a_violin.jpg\n",
      "Label: Picasso, Predicted: Picasso, Prob: 51.65%, Match: Correct, Model_and_artist.jpg\n",
      "Label: Picasso, Predicted: Monet, Prob: 55.41%, Match: Incorrect, Nude_woman_under_the_pine_tree.jpg\n",
      "Label: Picasso, Predicted: Picasso, Prob: 53.05%, Match: Correct, Nude_woman_with_a_comb.jpg\n",
      "Label: Picasso, Predicted: Picasso, Prob: 75.5%, Match: Correct, Still_life_with_a_pan.jpg\n",
      "Label: Picasso, Predicted: Picasso, Prob: 61.29%, Match: Correct, Woman_playing_with_a_vall_on_the_beach.jpg\n",
      "Label: Picasso, Predicted: Picasso, Prob: 53.01%, Match: Correct, Women_of_Algeria.jpg\n"
     ]
    }
   ],
   "source": [
    "eval_dataloader_3h, eval_classes_3h, eval_dataset_3h = get_testing_dataset(INPUT_DIR_TRAIN, transform_set='test_3_horizontal_flip')\n",
    "results = evaluate_model(model, eval_dataloader_3h, device, train_classes, eval_classes_3h, eval_dataset=eval_dataset_3h)"
   ]
  },
  {
   "cell_type": "code",
   "execution_count": 10,
   "metadata": {},
   "outputs": [
    {
     "name": "stdout",
     "output_type": "stream",
     "text": [
      "Test 4\n",
      "Class Labels:\n",
      "0: Braque\n",
      "1: Cezanne\n",
      "2: Delacroix\n",
      "3: New_Monet\n",
      "4: New_Picasso\n",
      "Label: Braque, Predicted: Picasso, Prob: 61.38%, Match: Incorrect, An_easel_and_a_woman.jpg\n",
      "Label: Braque, Predicted: Monet, Prob: 50.56%, Match: Incorrect, Female_musician.jpg\n",
      "Label: Braque, Predicted: Picasso, Prob: 69.45%, Match: Incorrect, Still_life_with_\"le_Jour\".jpg\n",
      "Label: Cezanne, Predicted: Monet, Prob: 64.18%, Match: Incorrect, Big_water_bathing.jpg\n",
      "Label: Cezanne, Predicted: Monet, Prob: 51.91%, Match: Incorrect, Sitting_man.jpg\n",
      "Label: Cezanne, Predicted: Monet, Prob: 58.47%, Match: Incorrect, Still_life_with_onions.jpg\n",
      "Label: Delacroix, Predicted: Picasso, Prob: 62.44%, Match: Incorrect, Atelier.jpg\n",
      "Label: Delacroix, Predicted: Monet, Prob: 68.54%, Match: Incorrect, July_28th.jpg\n",
      "Label: Delacroix, Predicted: Monet, Prob: 69.47%, Match: Incorrect, Still_life_with_a_lobster.jpg\n",
      "Label: New_Monet, Predicted: Monet, Prob: 71.43%, Match: Correct, La_Grenouillere.jpg\n",
      "Label: New_Monet, Predicted: Monet, Prob: 82.44%, Match: Correct, Lady_with_parasole.jpg\n",
      "Label: New_Monet, Predicted: Monet, Prob: 84.65%, Match: Correct, Water_lily.jpg\n",
      "Label: New_Picasso, Predicted: Picasso, Prob: 72.61%, Match: Correct, Dance.jpg\n",
      "Label: New_Picasso, Predicted: Picasso, Prob: 72.58%, Match: Correct, Still_life_with_an_ox_head.jpg\n",
      "Label: New_Picasso, Predicted: Picasso, Prob: 62.84%, Match: Correct, Woman_looking_at_the_glass.jpg\n"
     ]
    }
   ],
   "source": [
    "eval_dataloader_4, eval_classes_4, eval_dataset_4 = get_testing_dataset(INPUT_DIR_TEST, transform_set='test_4', verbose=True)\n",
    "results = evaluate_model(model, eval_dataloader_4, device, train_classes, eval_classes_4, eval_dataset=eval_dataset_4)"
   ]
  },
  {
   "cell_type": "code",
   "execution_count": null,
   "metadata": {},
   "outputs": [],
   "source": []
  }
 ],
 "metadata": {
  "kernelspec": {
   "display_name": ".venv",
   "language": "python",
   "name": "python3"
  },
  "language_info": {
   "codemirror_mode": {
    "name": "ipython",
    "version": 3
   },
   "file_extension": ".py",
   "mimetype": "text/x-python",
   "name": "python",
   "nbconvert_exporter": "python",
   "pygments_lexer": "ipython3",
   "version": "3.10.10"
  }
 },
 "nbformat": 4,
 "nbformat_minor": 2
}
