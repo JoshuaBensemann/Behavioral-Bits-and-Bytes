{
 "cells": [
  {
   "cell_type": "code",
   "execution_count": null,
   "metadata": {},
   "outputs": [],
   "source": [
    "# %pip install pillow"
   ]
  },
  {
   "cell_type": "code",
   "execution_count": null,
   "metadata": {},
   "outputs": [],
   "source": [
    "from PIL import Image, ImageOps\n",
    "from os import scandir, path, mkdir\n"
   ]
  },
  {
   "cell_type": "code",
   "execution_count": null,
   "metadata": {},
   "outputs": [],
   "source": [
    "NEW_SIZE = (224, 224)\n",
    "DATA_DIR = '../data'\n",
    "IMAGE_EXT = ['.jpg', '.jpeg', '.png', '.webp']\n",
    "TRAIN_DIR_A = path.join(DATA_DIR, 'train_a')\n",
    "TRAIN_DIR_B = path.join(DATA_DIR, 'train_b')\n",
    "TEST_4_DIR_A = path.join(DATA_DIR, 'test_4_a')\n",
    "TEST_4_DIR_B = path.join(DATA_DIR, 'test_4_b')"
   ]
  },
  {
   "cell_type": "code",
   "execution_count": null,
   "metadata": {},
   "outputs": [],
   "source": [
    "def resize_image(image_path, new_path, new_size=NEW_SIZE):\n",
    "    image = Image.open(image_path)\n",
    "    image.thumbnail(new_size)\n",
    "    delta_w = new_size[0] - image.size[0]\n",
    "    delta_h = new_size[1] - image.size[1]\n",
    "    padding = (delta_w//2, delta_h//2, delta_w-(delta_w//2), delta_h-(delta_h//2))\n",
    "    image = ImageOps.expand(image, padding)\n",
    "    \n",
    "    # Change the extension of the new path to .jpg\n",
    "    new_path = path.splitext(new_path)[0] + '.jpg'\n",
    "    image.save(new_path, 'JPEG')\n"
   ]
  },
  {
   "cell_type": "code",
   "execution_count": null,
   "metadata": {},
   "outputs": [],
   "source": [
    "if not path.exists(TRAIN_DIR_A):\n",
    "    mkdir(TRAIN_DIR_A)\n",
    "\n",
    "\n",
    "if not path.exists(TRAIN_DIR_B):\n",
    "    mkdir(TRAIN_DIR_B)\n",
    "\n",
    "\n",
    "if not path.exists(TEST_4_DIR_A):\n",
    "    mkdir(TEST_4_DIR_A)\n",
    "\n",
    "\n",
    "if not path.exists(TEST_4_DIR_B):\n",
    "    mkdir(TEST_4_DIR_B)    "
   ]
  },
  {
   "cell_type": "code",
   "execution_count": null,
   "metadata": {},
   "outputs": [],
   "source": [
    "data_dir_content = [entry.name for entry in scandir(DATA_DIR) if entry.is_dir()]\n",
    "print(\"Directories in DATA_DIR:\", data_dir_content)\n",
    "\n",
    "data_dir_content_A = [entry for entry in data_dir_content if entry.endswith('_A')]\n",
    "data_dir_content_B = [entry for entry in data_dir_content if entry.endswith('_B')]\n",
    "\n",
    "print(\"Directories ending with '_A':\", data_dir_content_A)\n",
    "print(\"Directories ending with '_B':\", data_dir_content_B)"
   ]
  },
  {
   "cell_type": "code",
   "execution_count": null,
   "metadata": {},
   "outputs": [],
   "source": [
    "for dir_name in data_dir_content_A:\n",
    "    source_dir = path.join(DATA_DIR, dir_name)\n",
    "    if dir_name in ['Monet_A', 'Picasso_A']:\n",
    "        target_dir = path.join(TRAIN_DIR_A, dir_name.replace('_A', ''))\n",
    "    else:\n",
    "        target_dir = path.join(TEST_4_DIR_A, dir_name.replace('_A', ''))\n",
    "    \n",
    "    if not path.exists(target_dir):\n",
    "        mkdir(target_dir)\n",
    "    \n",
    "    for entry in scandir(source_dir):\n",
    "        if entry.is_file() and path.splitext(entry.name)[1] in IMAGE_EXT:\n",
    "            resize_image(path.join(source_dir, entry.name), path.join(target_dir, entry.name))\n",
    "\n",
    "# Equivalent for data_dir_content_B\n",
    "for dir_name in data_dir_content_B:\n",
    "    source_dir = path.join(DATA_DIR, dir_name)\n",
    "    if dir_name in ['Monet_B', 'Picasso_B']:\n",
    "        target_dir = path.join(TRAIN_DIR_B, dir_name.replace('_B', ''))\n",
    "    else:\n",
    "        target_dir = path.join(TEST_4_DIR_B, dir_name.replace('_B', ''))\n",
    "    \n",
    "    if not path.exists(target_dir):\n",
    "        mkdir(target_dir)\n",
    "    \n",
    "    for entry in scandir(source_dir):\n",
    "        if entry.is_file() and path.splitext(entry.name)[1] in IMAGE_EXT:\n",
    "            resize_image(path.join(source_dir, entry.name), path.join(target_dir, entry.name))\n"
   ]
  }
 ],
 "metadata": {
  "kernelspec": {
   "display_name": ".venv",
   "language": "python",
   "name": "python3"
  },
  "language_info": {
   "codemirror_mode": {
    "name": "ipython",
    "version": 3
   },
   "file_extension": ".py",
   "mimetype": "text/x-python",
   "name": "python",
   "nbconvert_exporter": "python",
   "pygments_lexer": "ipython3",
   "version": "3.9.13"
  }
 },
 "nbformat": 4,
 "nbformat_minor": 2
}
