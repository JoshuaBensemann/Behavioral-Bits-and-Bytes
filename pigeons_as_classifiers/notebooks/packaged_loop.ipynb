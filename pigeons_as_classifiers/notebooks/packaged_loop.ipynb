{
 "cells": [
  {
   "cell_type": "code",
   "execution_count": 1,
   "metadata": {},
   "outputs": [],
   "source": [
    "import sys\n",
    "\n",
    "sys.path.append('..')\n",
    "\n",
    "from torchvision.models import resnet50\n",
    "from PAC.train import train_model, training_setup\n",
    "from PAC.data import get_training_dataset\n",
    "from PAC.helpers import run_evaluation, summarise_results, summarise_summaries"
   ]
  },
  {
   "cell_type": "code",
   "execution_count": 2,
   "metadata": {},
   "outputs": [],
   "source": [
    "INPUT_DIR_TRAIN = '../data/train_a'\n",
    "INPUT_DIR_TEST = '../data/test_4_a'"
   ]
  },
  {
   "cell_type": "code",
   "execution_count": 3,
   "metadata": {},
   "outputs": [],
   "source": [
    "train_dataset, train_classes = get_training_dataset(INPUT_DIR_TRAIN)"
   ]
  },
  {
   "cell_type": "code",
   "execution_count": 4,
   "metadata": {},
   "outputs": [
    {
     "name": "stdout",
     "output_type": "stream",
     "text": [
      "Device: mps\n",
      "Epoch 1/100: Loss = 13.7565, Accuracy = 36.84%\n",
      "Epoch 2/100: Loss = 13.4750, Accuracy = 52.63%\n",
      "Epoch 3/100: Loss = 13.0996, Accuracy = 63.16%\n",
      "Epoch 4/100: Loss = 12.9950, Accuracy = 52.63%\n",
      "Epoch 5/100: Loss = 12.1448, Accuracy = 63.16%\n",
      "Epoch 6/100: Loss = 12.1390, Accuracy = 68.42%\n",
      "Epoch 7/100: Loss = 12.1554, Accuracy = 68.42%\n",
      "Epoch 8/100: Loss = 11.3268, Accuracy = 68.42%\n",
      "Epoch 9/100: Loss = 10.6269, Accuracy = 68.42%\n",
      "Epoch 10/100: Loss = 10.8192, Accuracy = 78.95%\n",
      "Epoch 11/100: Loss = 10.0539, Accuracy = 84.21%\n",
      "Epoch 12/100: Loss = 10.9864, Accuracy = 73.68%\n",
      "Epoch 13/100: Loss = 10.7416, Accuracy = 84.21%\n",
      "Epoch 14/100: Loss = 8.7831, Accuracy = 78.95%\n",
      "Epoch 15/100: Loss = 10.1580, Accuracy = 73.68%\n",
      "Epoch 16/100: Loss = 9.8577, Accuracy = 89.47%\n",
      "Epoch 17/100: Loss = 9.2509, Accuracy = 78.95%\n",
      "Epoch 18/100: Loss = 8.7436, Accuracy = 89.47%\n",
      "Epoch 19/100: Loss = 8.7752, Accuracy = 84.21%\n",
      "Epoch 20/100: Loss = 8.0441, Accuracy = 89.47%\n",
      "Epoch 21/100: Loss = 9.5188, Accuracy = 78.95%\n",
      "Epoch 22/100: Loss = 8.9671, Accuracy = 89.47%\n",
      "Epoch 23/100: Loss = 8.8510, Accuracy = 84.21%\n",
      "Epoch 24/100: Loss = 9.3754, Accuracy = 89.47%\n",
      "Epoch 25/100: Loss = 7.4029, Accuracy = 89.47%\n",
      "Epoch 26/100: Loss = 7.7780, Accuracy = 89.47%\n",
      "Epoch 27/100: Loss = 8.1887, Accuracy = 94.74%\n"
     ]
    }
   ],
   "source": [
    "# Load the pre-trained ResNet model\n",
    "model = resnet50(weights='ResNet50_Weights.DEFAULT')\n",
    "\n",
    "# Define the number of training epochs\n",
    "num_epochs = 100\n",
    "\n",
    "model, device, criterion, optimizer = training_setup(model, train_classes, lr=0.01)\n",
    "\n",
    "# Training loop\n",
    "for epoch in range(num_epochs):\n",
    "    accuracy, running_loss = train_model(model, train_dataset, device, criterion, optimizer)\n",
    "    \n",
    "    # Print the loss and accuracy for each epoch\n",
    "    print(f\"Epoch {epoch+1}/{num_epochs}: Loss = {running_loss:.4f}, Accuracy = {accuracy:.2f}%\")\n",
    "    if accuracy > 90:\n",
    "        break\n"
   ]
  },
  {
   "cell_type": "code",
   "execution_count": 5,
   "metadata": {},
   "outputs": [],
   "source": [
    "summaries = {}"
   ]
  },
  {
   "cell_type": "code",
   "execution_count": 6,
   "metadata": {},
   "outputs": [
    {
     "name": "stdout",
     "output_type": "stream",
     "text": [
      "Eval\n",
      "Class Labels:\n",
      "0: Monet\n",
      "1: Picasso\n",
      "Label: Monet, Predicted: Monet, Prob: 80.64%, Match: Correct, Capucines_boulevard.jpg\n",
      "Label: Monet, Predicted: Monet, Prob: 68.03%, Match: Correct, Dinner_of_Sisley.jpg\n",
      "Label: Monet, Predicted: Monet, Prob: 86.44%, Match: Correct, Mrs_Monet.jpg\n",
      "Label: Monet, Predicted: Monet, Prob: 78.6%, Match: Correct, Pears_and_grapes.jpg\n",
      "Label: Monet, Predicted: Monet, Prob: 72.39%, Match: Correct, Plazzo_da_mula_in_Venezia.jpg\n",
      "Label: Monet, Predicted: Monet, Prob: 86.85%, Match: Correct, Pond_of_water_lily.jpg\n",
      "Label: Monet, Predicted: Monet, Prob: 84.53%, Match: Correct, Poplars_of_Giverny.jpg\n",
      "Label: Monet, Predicted: Monet, Prob: 89.16%, Match: Correct, Red_poppy.jpg\n",
      "Label: Monet, Predicted: Monet, Prob: 77.03%, Match: Correct, Terrace_of_Saint-Adresse.jpg\n",
      "Label: Picasso, Predicted: Picasso, Prob: 85.75%, Match: Correct, Girl_with_a_ring.jpg\n",
      "Label: Picasso, Predicted: Picasso, Prob: 57.5%, Match: Correct, Girls_in_Avignon.jpg\n",
      "Label: Picasso, Predicted: Picasso, Prob: 87.28%, Match: Correct, Guitar-_cup_and_fruits.jpg\n",
      "Label: Picasso, Predicted: Monet, Prob: 65.55%, Match: Incorrect, Man_with_a_violin.jpg\n",
      "Label: Picasso, Predicted: Monet, Prob: 58.26%, Match: Incorrect, Model_and_artist.jpg\n",
      "Label: Picasso, Predicted: Monet, Prob: 53.58%, Match: Incorrect, Nude_woman_under_the_pine_tree.jpg\n",
      "Label: Picasso, Predicted: Picasso, Prob: 59.39%, Match: Correct, Nude_woman_with_a_comb.jpg\n",
      "Label: Picasso, Predicted: Picasso, Prob: 73.42%, Match: Correct, Still_life_with_a_pan.jpg\n",
      "Label: Picasso, Predicted: Picasso, Prob: 70.05%, Match: Correct, Woman_playing_with_a_vall_on_the_beach.jpg\n",
      "Label: Picasso, Predicted: Monet, Prob: 57.99%, Match: Incorrect, Women_of_Algeria.jpg\n"
     ]
    }
   ],
   "source": [
    "eval_results = run_evaluation(model, INPUT_DIR_TRAIN, device, train_classes, verbose=True)"
   ]
  },
  {
   "cell_type": "code",
   "execution_count": 7,
   "metadata": {},
   "outputs": [
    {
     "data": {
      "text/plain": [
       "{'accuracy': 0.7894736842105263,\n",
       " 'precision': 0.854251012145749,\n",
       " 'recall': 0.7894736842105263,\n",
       " 'f1': 0.7822966507177034,\n",
       " 'results_summary':         accuracy correct_confidence incorrect_confidence common_mistake\n",
       " Monet        1.0          80.407778                  NaN            NaN\n",
       " Picasso      0.6          72.231667               58.845          Monet}"
      ]
     },
     "execution_count": 7,
     "metadata": {},
     "output_type": "execute_result"
    }
   ],
   "source": [
    "summaries['eval'] = summarise_results(eval_results)\n",
    "summaries['eval']"
   ]
  },
  {
   "cell_type": "code",
   "execution_count": 8,
   "metadata": {},
   "outputs": [
    {
     "name": "stdout",
     "output_type": "stream",
     "text": [
      "Test 1\n",
      "Class Labels:\n",
      "0: Monet\n",
      "1: Picasso\n",
      "Label: Monet, Predicted: Monet, Prob: 82.28%, Match: Correct, Capucines_boulevard.jpg\n",
      "Label: Monet, Predicted: Monet, Prob: 60.07%, Match: Correct, Dinner_of_Sisley.jpg\n",
      "Label: Monet, Predicted: Monet, Prob: 62.19%, Match: Correct, Mrs_Monet.jpg\n",
      "Label: Monet, Predicted: Monet, Prob: 76.63%, Match: Correct, Pears_and_grapes.jpg\n",
      "Label: Monet, Predicted: Monet, Prob: 62.2%, Match: Correct, Plazzo_da_mula_in_Venezia.jpg\n",
      "Label: Monet, Predicted: Monet, Prob: 83.53%, Match: Correct, Pond_of_water_lily.jpg\n",
      "Label: Monet, Predicted: Monet, Prob: 69.04%, Match: Correct, Poplars_of_Giverny.jpg\n",
      "Label: Monet, Predicted: Monet, Prob: 86.06%, Match: Correct, Red_poppy.jpg\n",
      "Label: Monet, Predicted: Monet, Prob: 82.77%, Match: Correct, Terrace_of_Saint-Adresse.jpg\n",
      "Label: Picasso, Predicted: Picasso, Prob: 79.83%, Match: Correct, Girl_with_a_ring.jpg\n",
      "Label: Picasso, Predicted: Picasso, Prob: 54.67%, Match: Correct, Girls_in_Avignon.jpg\n",
      "Label: Picasso, Predicted: Picasso, Prob: 91.59%, Match: Correct, Guitar-_cup_and_fruits.jpg\n",
      "Label: Picasso, Predicted: Monet, Prob: 62.84%, Match: Incorrect, Man_with_a_violin.jpg\n",
      "Label: Picasso, Predicted: Monet, Prob: 60.05%, Match: Incorrect, Model_and_artist.jpg\n",
      "Label: Picasso, Predicted: Picasso, Prob: 60.28%, Match: Correct, Nude_woman_under_the_pine_tree.jpg\n",
      "Label: Picasso, Predicted: Picasso, Prob: 76.96%, Match: Correct, Nude_woman_with_a_comb.jpg\n",
      "Label: Picasso, Predicted: Picasso, Prob: 71.09%, Match: Correct, Still_life_with_a_pan.jpg\n",
      "Label: Picasso, Predicted: Picasso, Prob: 71.26%, Match: Correct, Woman_playing_with_a_vall_on_the_beach.jpg\n",
      "Label: Picasso, Predicted: Picasso, Prob: 51.86%, Match: Correct, Women_of_Algeria.jpg\n"
     ]
    }
   ],
   "source": [
    "test_1_results = run_evaluation(model, INPUT_DIR_TRAIN, device, train_classes, test_type='test_1', verbose=True)"
   ]
  },
  {
   "cell_type": "code",
   "execution_count": 9,
   "metadata": {},
   "outputs": [
    {
     "data": {
      "text/plain": [
       "{'accuracy': 0.8947368421052632,\n",
       " 'precision': 0.9138755980861244,\n",
       " 'recall': 0.8947368421052632,\n",
       " 'f1': 0.8941520467836256,\n",
       " 'results_summary':         accuracy correct_confidence incorrect_confidence common_mistake\n",
       " Monet        1.0          73.863333                  NaN            NaN\n",
       " Picasso      0.8            69.6925               61.445          Monet}"
      ]
     },
     "execution_count": 9,
     "metadata": {},
     "output_type": "execute_result"
    }
   ],
   "source": [
    "summaries['test_1'] = summarise_results(test_1_results)\n",
    "summaries['test_1']"
   ]
  },
  {
   "cell_type": "code",
   "execution_count": 10,
   "metadata": {},
   "outputs": [
    {
     "name": "stdout",
     "output_type": "stream",
     "text": [
      "Test 2\n",
      "Class Labels:\n",
      "0: Monet\n",
      "1: Picasso\n",
      "Label: Monet, Predicted: Monet, Prob: 55.94%, Match: Correct, Capucines_boulevard.jpg\n",
      "Label: Monet, Predicted: Picasso, Prob: 50.51%, Match: Incorrect, Dinner_of_Sisley.jpg\n",
      "Label: Monet, Predicted: Monet, Prob: 80.33%, Match: Correct, Mrs_Monet.jpg\n",
      "Label: Monet, Predicted: Monet, Prob: 72.36%, Match: Correct, Pears_and_grapes.jpg\n",
      "Label: Monet, Predicted: Monet, Prob: 64.32%, Match: Correct, Plazzo_da_mula_in_Venezia.jpg\n",
      "Label: Monet, Predicted: Monet, Prob: 74.34%, Match: Correct, Pond_of_water_lily.jpg\n",
      "Label: Monet, Predicted: Monet, Prob: 72.11%, Match: Correct, Poplars_of_Giverny.jpg\n",
      "Label: Monet, Predicted: Monet, Prob: 74.92%, Match: Correct, Red_poppy.jpg\n",
      "Label: Monet, Predicted: Monet, Prob: 78.88%, Match: Correct, Terrace_of_Saint-Adresse.jpg\n",
      "Label: Picasso, Predicted: Picasso, Prob: 74.67%, Match: Correct, Girl_with_a_ring.jpg\n",
      "Label: Picasso, Predicted: Picasso, Prob: 58.48%, Match: Correct, Girls_in_Avignon.jpg\n",
      "Label: Picasso, Predicted: Picasso, Prob: 83.82%, Match: Correct, Guitar-_cup_and_fruits.jpg\n",
      "Label: Picasso, Predicted: Monet, Prob: 62.38%, Match: Incorrect, Man_with_a_violin.jpg\n",
      "Label: Picasso, Predicted: Monet, Prob: 53.41%, Match: Incorrect, Model_and_artist.jpg\n",
      "Label: Picasso, Predicted: Picasso, Prob: 50.41%, Match: Correct, Nude_woman_under_the_pine_tree.jpg\n",
      "Label: Picasso, Predicted: Picasso, Prob: 50.75%, Match: Correct, Nude_woman_with_a_comb.jpg\n",
      "Label: Picasso, Predicted: Picasso, Prob: 74.68%, Match: Correct, Still_life_with_a_pan.jpg\n",
      "Label: Picasso, Predicted: Picasso, Prob: 61.85%, Match: Correct, Woman_playing_with_a_vall_on_the_beach.jpg\n",
      "Label: Picasso, Predicted: Picasso, Prob: 69.84%, Match: Correct, Women_of_Algeria.jpg\n"
     ]
    }
   ],
   "source": [
    "test_2_results = run_evaluation(model, INPUT_DIR_TRAIN, device, train_classes, test_type='test_2', verbose=True)"
   ]
  },
  {
   "cell_type": "code",
   "execution_count": 11,
   "metadata": {},
   "outputs": [
    {
     "data": {
      "text/plain": [
       "{'accuracy': 0.8421052631578947,\n",
       " 'precision': 0.8467836257309941,\n",
       " 'recall': 0.8421052631578947,\n",
       " 'f1': 0.8421052631578947,\n",
       " 'results_summary':          accuracy correct_confidence incorrect_confidence common_mistake\n",
       " Monet    0.888889              71.65                50.51        Picasso\n",
       " Picasso       0.8            65.5625               57.895          Monet}"
      ]
     },
     "execution_count": 11,
     "metadata": {},
     "output_type": "execute_result"
    }
   ],
   "source": [
    "summaries['test_2'] = summarise_results(test_2_results)\n",
    "summaries['test_2']"
   ]
  },
  {
   "cell_type": "code",
   "execution_count": 12,
   "metadata": {},
   "outputs": [
    {
     "name": "stdout",
     "output_type": "stream",
     "text": [
      "Test 3 - Vertical Flip\n",
      "Class Labels:\n",
      "0: Monet\n",
      "1: Picasso\n"
     ]
    },
    {
     "name": "stdout",
     "output_type": "stream",
     "text": [
      "Label: Monet, Predicted: Monet, Prob: 79.07%, Match: Correct, Capucines_boulevard.jpg\n",
      "Label: Monet, Predicted: Monet, Prob: 64.01%, Match: Correct, Dinner_of_Sisley.jpg\n",
      "Label: Monet, Predicted: Monet, Prob: 92.98%, Match: Correct, Mrs_Monet.jpg\n",
      "Label: Monet, Predicted: Monet, Prob: 85.45%, Match: Correct, Pears_and_grapes.jpg\n",
      "Label: Monet, Predicted: Monet, Prob: 63.96%, Match: Correct, Plazzo_da_mula_in_Venezia.jpg\n",
      "Label: Monet, Predicted: Monet, Prob: 86.68%, Match: Correct, Pond_of_water_lily.jpg\n",
      "Label: Monet, Predicted: Monet, Prob: 86.9%, Match: Correct, Poplars_of_Giverny.jpg\n",
      "Label: Monet, Predicted: Monet, Prob: 89.07%, Match: Correct, Red_poppy.jpg\n",
      "Label: Monet, Predicted: Monet, Prob: 89.45%, Match: Correct, Terrace_of_Saint-Adresse.jpg\n",
      "Label: Picasso, Predicted: Monet, Prob: 55.55%, Match: Incorrect, Girl_with_a_ring.jpg\n",
      "Label: Picasso, Predicted: Picasso, Prob: 63.36%, Match: Correct, Girls_in_Avignon.jpg\n",
      "Label: Picasso, Predicted: Picasso, Prob: 76.26%, Match: Correct, Guitar-_cup_and_fruits.jpg\n",
      "Label: Picasso, Predicted: Monet, Prob: 69.14%, Match: Incorrect, Man_with_a_violin.jpg\n",
      "Label: Picasso, Predicted: Monet, Prob: 72.53%, Match: Incorrect, Model_and_artist.jpg\n",
      "Label: Picasso, Predicted: Picasso, Prob: 52.24%, Match: Correct, Nude_woman_under_the_pine_tree.jpg\n",
      "Label: Picasso, Predicted: Picasso, Prob: 62.11%, Match: Correct, Nude_woman_with_a_comb.jpg\n",
      "Label: Picasso, Predicted: Picasso, Prob: 61.24%, Match: Correct, Still_life_with_a_pan.jpg\n",
      "Label: Picasso, Predicted: Picasso, Prob: 61.15%, Match: Correct, Woman_playing_with_a_vall_on_the_beach.jpg\n",
      "Label: Picasso, Predicted: Picasso, Prob: 54.31%, Match: Correct, Women_of_Algeria.jpg\n"
     ]
    }
   ],
   "source": [
    "test_3v_results = run_evaluation(model, INPUT_DIR_TRAIN, device, train_classes, test_type='test_3_vertical_flip', verbose=True)"
   ]
  },
  {
   "cell_type": "code",
   "execution_count": 13,
   "metadata": {},
   "outputs": [
    {
     "data": {
      "text/plain": [
       "{'accuracy': 0.8421052631578947,\n",
       " 'precision': 0.881578947368421,\n",
       " 'recall': 0.8421052631578947,\n",
       " 'f1': 0.8394515701017248,\n",
       " 'results_summary':         accuracy correct_confidence incorrect_confidence common_mistake\n",
       " Monet        1.0          81.952222                  NaN            NaN\n",
       " Picasso      0.7          61.524286                65.74          Monet}"
      ]
     },
     "execution_count": 13,
     "metadata": {},
     "output_type": "execute_result"
    }
   ],
   "source": [
    "summaries['test_3v'] = summarise_results(test_3v_results)\n",
    "summaries['test_3v']"
   ]
  },
  {
   "cell_type": "code",
   "execution_count": 14,
   "metadata": {},
   "outputs": [
    {
     "name": "stdout",
     "output_type": "stream",
     "text": [
      "Test 3 - Horizontal Flip\n",
      "Class Labels:\n",
      "0: Monet\n",
      "1: Picasso\n",
      "Label: Monet, Predicted: Monet, Prob: 75.59%, Match: Correct, Capucines_boulevard.jpg\n",
      "Label: Monet, Predicted: Monet, Prob: 56.59%, Match: Correct, Dinner_of_Sisley.jpg\n",
      "Label: Monet, Predicted: Monet, Prob: 78.64%, Match: Correct, Mrs_Monet.jpg\n",
      "Label: Monet, Predicted: Monet, Prob: 81.17%, Match: Correct, Pears_and_grapes.jpg\n",
      "Label: Monet, Predicted: Monet, Prob: 74.5%, Match: Correct, Plazzo_da_mula_in_Venezia.jpg\n",
      "Label: Monet, Predicted: Monet, Prob: 88.47%, Match: Correct, Pond_of_water_lily.jpg\n",
      "Label: Monet, Predicted: Monet, Prob: 80.56%, Match: Correct, Poplars_of_Giverny.jpg\n",
      "Label: Monet, Predicted: Monet, Prob: 83.52%, Match: Correct, Red_poppy.jpg\n",
      "Label: Monet, Predicted: Monet, Prob: 83.01%, Match: Correct, Terrace_of_Saint-Adresse.jpg\n",
      "Label: Picasso, Predicted: Picasso, Prob: 66.4%, Match: Correct, Girl_with_a_ring.jpg\n",
      "Label: Picasso, Predicted: Picasso, Prob: 59.26%, Match: Correct, Girls_in_Avignon.jpg\n",
      "Label: Picasso, Predicted: Picasso, Prob: 89.53%, Match: Correct, Guitar-_cup_and_fruits.jpg\n",
      "Label: Picasso, Predicted: Monet, Prob: 67.38%, Match: Incorrect, Man_with_a_violin.jpg\n",
      "Label: Picasso, Predicted: Monet, Prob: 52.99%, Match: Incorrect, Model_and_artist.jpg\n",
      "Label: Picasso, Predicted: Monet, Prob: 58.11%, Match: Incorrect, Nude_woman_under_the_pine_tree.jpg\n",
      "Label: Picasso, Predicted: Monet, Prob: 52.33%, Match: Incorrect, Nude_woman_with_a_comb.jpg\n",
      "Label: Picasso, Predicted: Picasso, Prob: 73.53%, Match: Correct, Still_life_with_a_pan.jpg\n",
      "Label: Picasso, Predicted: Picasso, Prob: 56.69%, Match: Correct, Woman_playing_with_a_vall_on_the_beach.jpg\n",
      "Label: Picasso, Predicted: Picasso, Prob: 51.27%, Match: Correct, Women_of_Algeria.jpg\n"
     ]
    }
   ],
   "source": [
    "test_3h_results = run_evaluation(model, INPUT_DIR_TRAIN, device, train_classes, test_type='test_3_horizontal_flip', verbose=True)"
   ]
  },
  {
   "cell_type": "code",
   "execution_count": 15,
   "metadata": {},
   "outputs": [
    {
     "data": {
      "text/plain": [
       "{'accuracy': 0.7894736842105263,\n",
       " 'precision': 0.854251012145749,\n",
       " 'recall': 0.7894736842105263,\n",
       " 'f1': 0.7822966507177034,\n",
       " 'results_summary':         accuracy correct_confidence incorrect_confidence common_mistake\n",
       " Monet        1.0          78.005556                  NaN            NaN\n",
       " Picasso      0.6          66.113333              57.7025          Monet}"
      ]
     },
     "execution_count": 15,
     "metadata": {},
     "output_type": "execute_result"
    }
   ],
   "source": [
    "summaries['test_3h'] = summarise_results(test_3h_results)\n",
    "summaries['test_3h']"
   ]
  },
  {
   "cell_type": "code",
   "execution_count": 16,
   "metadata": {},
   "outputs": [
    {
     "name": "stdout",
     "output_type": "stream",
     "text": [
      "Test 4\n",
      "Class Labels:\n",
      "0: Braque\n",
      "1: Cezanne\n",
      "2: Delacroix\n",
      "3: New_Monet\n",
      "4: New_Picasso\n",
      "Label: Braque, Predicted: Picasso, Prob: 68.9%, Match: Incorrect, An_easel_and_a_woman.jpg\n",
      "Label: Braque, Predicted: Picasso, Prob: 51.5%, Match: Incorrect, Female_musician.jpg\n",
      "Label: Braque, Predicted: Picasso, Prob: 60.59%, Match: Incorrect, Still_life_with_\"le_Jour\".jpg\n",
      "Label: Cezanne, Predicted: Monet, Prob: 65.45%, Match: Incorrect, Big_water_bathing.jpg\n",
      "Label: Cezanne, Predicted: Picasso, Prob: 51.42%, Match: Incorrect, Sitting_man.jpg\n",
      "Label: Cezanne, Predicted: Monet, Prob: 58.23%, Match: Incorrect, Still_life_with_onions.jpg\n",
      "Label: Delacroix, Predicted: Picasso, Prob: 56.69%, Match: Incorrect, Atelier.jpg\n",
      "Label: Delacroix, Predicted: Monet, Prob: 68.12%, Match: Incorrect, July_28th.jpg\n",
      "Label: Delacroix, Predicted: Monet, Prob: 79.44%, Match: Incorrect, Still_life_with_a_lobster.jpg\n",
      "Label: New_Monet, Predicted: Monet, Prob: 87.31%, Match: Correct, La_Grenouillere.jpg\n",
      "Label: New_Monet, Predicted: Monet, Prob: 82.53%, Match: Correct, Lady_with_parasole.jpg\n",
      "Label: New_Monet, Predicted: Monet, Prob: 93.79%, Match: Correct, Water_lily.jpg\n",
      "Label: New_Picasso, Predicted: Picasso, Prob: 65.43%, Match: Correct, Dance.jpg\n",
      "Label: New_Picasso, Predicted: Picasso, Prob: 76.37%, Match: Correct, Still_life_with_an_ox_head.jpg\n",
      "Label: New_Picasso, Predicted: Picasso, Prob: 52.36%, Match: Correct, Woman_looking_at_the_glass.jpg\n"
     ]
    }
   ],
   "source": [
    "test_4_results = run_evaluation(model, INPUT_DIR_TEST, device, train_classes, test_type='test_4', verbose=True)"
   ]
  },
  {
   "cell_type": "code",
   "execution_count": 17,
   "metadata": {},
   "outputs": [
    {
     "name": "stderr",
     "output_type": "stream",
     "text": [
      "/Users/joshuabensemann/Documents/GitHub/Behavioral-Bits-and-Bytes/.venv/lib/python3.10/site-packages/sklearn/metrics/_classification.py:1509: UndefinedMetricWarning: Precision is ill-defined and being set to 0.0 in labels with no predicted samples. Use `zero_division` parameter to control this behavior.\n",
      "  _warn_prf(average, modifier, f\"{metric.capitalize()} is\", len(result))\n",
      "/Users/joshuabensemann/Documents/GitHub/Behavioral-Bits-and-Bytes/.venv/lib/python3.10/site-packages/sklearn/metrics/_classification.py:1509: UndefinedMetricWarning: Recall is ill-defined and being set to 0.0 in labels with no true samples. Use `zero_division` parameter to control this behavior.\n",
      "  _warn_prf(average, modifier, f\"{metric.capitalize()} is\", len(result))\n"
     ]
    },
    {
     "data": {
      "text/plain": [
       "{'accuracy': 0.0,\n",
       " 'precision': 0.0,\n",
       " 'recall': 0.0,\n",
       " 'f1': 0.0,\n",
       " 'results_summary':             accuracy correct_confidence incorrect_confidence common_mistake\n",
       " Braque             0                NaN                60.33        Picasso\n",
       " Cezanne            0                NaN            58.366667          Monet\n",
       " Delacroix          0                NaN            68.083333          Monet\n",
       " New_Monet        1.0          87.876667                  NaN            NaN\n",
       " New_Picasso      1.0              64.72                  NaN            NaN}"
      ]
     },
     "execution_count": 17,
     "metadata": {},
     "output_type": "execute_result"
    }
   ],
   "source": [
    "summaries['test_4'] = summarise_results(test_4_results)\n",
    "summaries['test_4']"
   ]
  },
  {
   "cell_type": "code",
   "execution_count": 18,
   "metadata": {},
   "outputs": [
    {
     "data": {
      "text/html": [
       "<div>\n",
       "<style scoped>\n",
       "    .dataframe tbody tr th:only-of-type {\n",
       "        vertical-align: middle;\n",
       "    }\n",
       "\n",
       "    .dataframe tbody tr th {\n",
       "        vertical-align: top;\n",
       "    }\n",
       "\n",
       "    .dataframe thead th {\n",
       "        text-align: right;\n",
       "    }\n",
       "</style>\n",
       "<table border=\"1\" class=\"dataframe\">\n",
       "  <thead>\n",
       "    <tr style=\"text-align: right;\">\n",
       "      <th></th>\n",
       "      <th>class</th>\n",
       "      <th>accuracy</th>\n",
       "      <th>correct_confidence</th>\n",
       "      <th>incorrect_confidence</th>\n",
       "      <th>common_mistake</th>\n",
       "      <th>test_type</th>\n",
       "      <th>precision</th>\n",
       "      <th>recall</th>\n",
       "      <th>f1</th>\n",
       "    </tr>\n",
       "  </thead>\n",
       "  <tbody>\n",
       "    <tr>\n",
       "      <th>0</th>\n",
       "      <td>Monet</td>\n",
       "      <td>0.789474</td>\n",
       "      <td>80.407778</td>\n",
       "      <td>NaN</td>\n",
       "      <td>NaN</td>\n",
       "      <td>eval</td>\n",
       "      <td>0.854251</td>\n",
       "      <td>0.789474</td>\n",
       "      <td>0.782297</td>\n",
       "    </tr>\n",
       "    <tr>\n",
       "      <th>1</th>\n",
       "      <td>Picasso</td>\n",
       "      <td>0.789474</td>\n",
       "      <td>72.231667</td>\n",
       "      <td>58.845</td>\n",
       "      <td>Monet</td>\n",
       "      <td>eval</td>\n",
       "      <td>0.854251</td>\n",
       "      <td>0.789474</td>\n",
       "      <td>0.782297</td>\n",
       "    </tr>\n",
       "    <tr>\n",
       "      <th>2</th>\n",
       "      <td>Monet</td>\n",
       "      <td>0.894737</td>\n",
       "      <td>73.863333</td>\n",
       "      <td>NaN</td>\n",
       "      <td>NaN</td>\n",
       "      <td>test_1</td>\n",
       "      <td>0.913876</td>\n",
       "      <td>0.894737</td>\n",
       "      <td>0.894152</td>\n",
       "    </tr>\n",
       "    <tr>\n",
       "      <th>3</th>\n",
       "      <td>Picasso</td>\n",
       "      <td>0.894737</td>\n",
       "      <td>69.6925</td>\n",
       "      <td>61.445</td>\n",
       "      <td>Monet</td>\n",
       "      <td>test_1</td>\n",
       "      <td>0.913876</td>\n",
       "      <td>0.894737</td>\n",
       "      <td>0.894152</td>\n",
       "    </tr>\n",
       "    <tr>\n",
       "      <th>4</th>\n",
       "      <td>Monet</td>\n",
       "      <td>0.842105</td>\n",
       "      <td>71.65</td>\n",
       "      <td>50.51</td>\n",
       "      <td>Picasso</td>\n",
       "      <td>test_2</td>\n",
       "      <td>0.846784</td>\n",
       "      <td>0.842105</td>\n",
       "      <td>0.842105</td>\n",
       "    </tr>\n",
       "    <tr>\n",
       "      <th>5</th>\n",
       "      <td>Picasso</td>\n",
       "      <td>0.842105</td>\n",
       "      <td>65.5625</td>\n",
       "      <td>57.895</td>\n",
       "      <td>Monet</td>\n",
       "      <td>test_2</td>\n",
       "      <td>0.846784</td>\n",
       "      <td>0.842105</td>\n",
       "      <td>0.842105</td>\n",
       "    </tr>\n",
       "    <tr>\n",
       "      <th>6</th>\n",
       "      <td>Monet</td>\n",
       "      <td>0.842105</td>\n",
       "      <td>81.952222</td>\n",
       "      <td>NaN</td>\n",
       "      <td>NaN</td>\n",
       "      <td>test_3v</td>\n",
       "      <td>0.881579</td>\n",
       "      <td>0.842105</td>\n",
       "      <td>0.839452</td>\n",
       "    </tr>\n",
       "    <tr>\n",
       "      <th>7</th>\n",
       "      <td>Picasso</td>\n",
       "      <td>0.842105</td>\n",
       "      <td>61.524286</td>\n",
       "      <td>65.74</td>\n",
       "      <td>Monet</td>\n",
       "      <td>test_3v</td>\n",
       "      <td>0.881579</td>\n",
       "      <td>0.842105</td>\n",
       "      <td>0.839452</td>\n",
       "    </tr>\n",
       "    <tr>\n",
       "      <th>8</th>\n",
       "      <td>Monet</td>\n",
       "      <td>0.789474</td>\n",
       "      <td>78.005556</td>\n",
       "      <td>NaN</td>\n",
       "      <td>NaN</td>\n",
       "      <td>test_3h</td>\n",
       "      <td>0.854251</td>\n",
       "      <td>0.789474</td>\n",
       "      <td>0.782297</td>\n",
       "    </tr>\n",
       "    <tr>\n",
       "      <th>9</th>\n",
       "      <td>Picasso</td>\n",
       "      <td>0.789474</td>\n",
       "      <td>66.113333</td>\n",
       "      <td>57.7025</td>\n",
       "      <td>Monet</td>\n",
       "      <td>test_3h</td>\n",
       "      <td>0.854251</td>\n",
       "      <td>0.789474</td>\n",
       "      <td>0.782297</td>\n",
       "    </tr>\n",
       "    <tr>\n",
       "      <th>10</th>\n",
       "      <td>Braque</td>\n",
       "      <td>0.000000</td>\n",
       "      <td>NaN</td>\n",
       "      <td>60.33</td>\n",
       "      <td>Picasso</td>\n",
       "      <td>test_4</td>\n",
       "      <td>0.000000</td>\n",
       "      <td>0.000000</td>\n",
       "      <td>0.000000</td>\n",
       "    </tr>\n",
       "    <tr>\n",
       "      <th>11</th>\n",
       "      <td>Cezanne</td>\n",
       "      <td>0.000000</td>\n",
       "      <td>NaN</td>\n",
       "      <td>58.366667</td>\n",
       "      <td>Monet</td>\n",
       "      <td>test_4</td>\n",
       "      <td>0.000000</td>\n",
       "      <td>0.000000</td>\n",
       "      <td>0.000000</td>\n",
       "    </tr>\n",
       "    <tr>\n",
       "      <th>12</th>\n",
       "      <td>Delacroix</td>\n",
       "      <td>0.000000</td>\n",
       "      <td>NaN</td>\n",
       "      <td>68.083333</td>\n",
       "      <td>Monet</td>\n",
       "      <td>test_4</td>\n",
       "      <td>0.000000</td>\n",
       "      <td>0.000000</td>\n",
       "      <td>0.000000</td>\n",
       "    </tr>\n",
       "    <tr>\n",
       "      <th>13</th>\n",
       "      <td>New_Monet</td>\n",
       "      <td>0.000000</td>\n",
       "      <td>87.876667</td>\n",
       "      <td>NaN</td>\n",
       "      <td>NaN</td>\n",
       "      <td>test_4</td>\n",
       "      <td>0.000000</td>\n",
       "      <td>0.000000</td>\n",
       "      <td>0.000000</td>\n",
       "    </tr>\n",
       "    <tr>\n",
       "      <th>14</th>\n",
       "      <td>New_Picasso</td>\n",
       "      <td>0.000000</td>\n",
       "      <td>64.72</td>\n",
       "      <td>NaN</td>\n",
       "      <td>NaN</td>\n",
       "      <td>test_4</td>\n",
       "      <td>0.000000</td>\n",
       "      <td>0.000000</td>\n",
       "      <td>0.000000</td>\n",
       "    </tr>\n",
       "  </tbody>\n",
       "</table>\n",
       "</div>"
      ],
      "text/plain": [
       "          class  accuracy correct_confidence incorrect_confidence  \\\n",
       "0         Monet  0.789474          80.407778                  NaN   \n",
       "1       Picasso  0.789474          72.231667               58.845   \n",
       "2         Monet  0.894737          73.863333                  NaN   \n",
       "3       Picasso  0.894737            69.6925               61.445   \n",
       "4         Monet  0.842105              71.65                50.51   \n",
       "5       Picasso  0.842105            65.5625               57.895   \n",
       "6         Monet  0.842105          81.952222                  NaN   \n",
       "7       Picasso  0.842105          61.524286                65.74   \n",
       "8         Monet  0.789474          78.005556                  NaN   \n",
       "9       Picasso  0.789474          66.113333              57.7025   \n",
       "10       Braque  0.000000                NaN                60.33   \n",
       "11      Cezanne  0.000000                NaN            58.366667   \n",
       "12    Delacroix  0.000000                NaN            68.083333   \n",
       "13    New_Monet  0.000000          87.876667                  NaN   \n",
       "14  New_Picasso  0.000000              64.72                  NaN   \n",
       "\n",
       "   common_mistake test_type  precision    recall        f1  \n",
       "0             NaN      eval   0.854251  0.789474  0.782297  \n",
       "1           Monet      eval   0.854251  0.789474  0.782297  \n",
       "2             NaN    test_1   0.913876  0.894737  0.894152  \n",
       "3           Monet    test_1   0.913876  0.894737  0.894152  \n",
       "4         Picasso    test_2   0.846784  0.842105  0.842105  \n",
       "5           Monet    test_2   0.846784  0.842105  0.842105  \n",
       "6             NaN   test_3v   0.881579  0.842105  0.839452  \n",
       "7           Monet   test_3v   0.881579  0.842105  0.839452  \n",
       "8             NaN   test_3h   0.854251  0.789474  0.782297  \n",
       "9           Monet   test_3h   0.854251  0.789474  0.782297  \n",
       "10        Picasso    test_4   0.000000  0.000000  0.000000  \n",
       "11          Monet    test_4   0.000000  0.000000  0.000000  \n",
       "12          Monet    test_4   0.000000  0.000000  0.000000  \n",
       "13            NaN    test_4   0.000000  0.000000  0.000000  \n",
       "14            NaN    test_4   0.000000  0.000000  0.000000  "
      ]
     },
     "execution_count": 18,
     "metadata": {},
     "output_type": "execute_result"
    }
   ],
   "source": [
    "summarise_summaries(summaries)"
   ]
  }
 ],
 "metadata": {
  "kernelspec": {
   "display_name": ".venv",
   "language": "python",
   "name": "python3"
  },
  "language_info": {
   "codemirror_mode": {
    "name": "ipython",
    "version": 3
   },
   "file_extension": ".py",
   "mimetype": "text/x-python",
   "name": "python",
   "nbconvert_exporter": "python",
   "pygments_lexer": "ipython3",
   "version": "3.10.10"
  }
 },
 "nbformat": 4,
 "nbformat_minor": 2
}
