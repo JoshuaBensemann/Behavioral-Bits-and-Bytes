{
 "cells": [
  {
   "cell_type": "code",
   "execution_count": 11,
   "metadata": {},
   "outputs": [],
   "source": [
    "import sys\n",
    "\n",
    "sys.path.append('..')\n",
    "\n",
    "from torchvision.models import resnet50\n",
    "from PAC.train import train_model, training_setup\n",
    "from PAC.data import get_training_dataset\n",
    "from PAC.helpers import run_evaluation"
   ]
  },
  {
   "cell_type": "code",
   "execution_count": 12,
   "metadata": {},
   "outputs": [],
   "source": [
    "INPUT_DIR_TRAIN = '../data/train_a'\n",
    "INPUT_DIR_TEST = '../data/test_4_a'"
   ]
  },
  {
   "cell_type": "code",
   "execution_count": 13,
   "metadata": {},
   "outputs": [],
   "source": [
    "train_dataset, train_classes = get_training_dataset(INPUT_DIR_TRAIN)"
   ]
  },
  {
   "cell_type": "code",
   "execution_count": 14,
   "metadata": {},
   "outputs": [
    {
     "name": "stdout",
     "output_type": "stream",
     "text": [
      "Device: mps\n",
      "Epoch 1/100: Loss = 14.0827, Accuracy = 31.58%\n",
      "Epoch 2/100: Loss = 13.7778, Accuracy = 52.63%\n",
      "Epoch 3/100: Loss = 12.7168, Accuracy = 57.89%\n",
      "Epoch 4/100: Loss = 11.9259, Accuracy = 63.16%\n",
      "Epoch 5/100: Loss = 12.6697, Accuracy = 47.37%\n",
      "Epoch 6/100: Loss = 12.2644, Accuracy = 68.42%\n",
      "Epoch 7/100: Loss = 11.9508, Accuracy = 63.16%\n",
      "Epoch 8/100: Loss = 11.4722, Accuracy = 84.21%\n",
      "Epoch 9/100: Loss = 10.8104, Accuracy = 78.95%\n",
      "Epoch 10/100: Loss = 10.6468, Accuracy = 73.68%\n",
      "Epoch 11/100: Loss = 11.3909, Accuracy = 84.21%\n",
      "Epoch 12/100: Loss = 10.0662, Accuracy = 84.21%\n",
      "Epoch 13/100: Loss = 10.1542, Accuracy = 84.21%\n",
      "Epoch 14/100: Loss = 10.2231, Accuracy = 84.21%\n",
      "Epoch 15/100: Loss = 9.8209, Accuracy = 89.47%\n",
      "Epoch 16/100: Loss = 9.3027, Accuracy = 89.47%\n",
      "Epoch 17/100: Loss = 9.3983, Accuracy = 78.95%\n",
      "Epoch 18/100: Loss = 10.1878, Accuracy = 84.21%\n",
      "Epoch 19/100: Loss = 9.5913, Accuracy = 84.21%\n",
      "Epoch 20/100: Loss = 8.5492, Accuracy = 89.47%\n",
      "Epoch 21/100: Loss = 9.4741, Accuracy = 89.47%\n",
      "Epoch 22/100: Loss = 8.0495, Accuracy = 89.47%\n",
      "Epoch 23/100: Loss = 8.7475, Accuracy = 89.47%\n",
      "Epoch 24/100: Loss = 7.9553, Accuracy = 89.47%\n",
      "Epoch 25/100: Loss = 7.9679, Accuracy = 89.47%\n",
      "Epoch 26/100: Loss = 8.2689, Accuracy = 89.47%\n",
      "Epoch 27/100: Loss = 6.7068, Accuracy = 89.47%\n",
      "Epoch 28/100: Loss = 7.7060, Accuracy = 94.74%\n"
     ]
    }
   ],
   "source": [
    "# Load the pre-trained ResNet model\n",
    "model = resnet50(weights='ResNet50_Weights.DEFAULT')\n",
    "\n",
    "# Define the number of training epochs\n",
    "num_epochs = 100\n",
    "\n",
    "model, device, criterion, optimizer = training_setup(model, train_classes, lr=0.01)\n",
    "\n",
    "# Training loop\n",
    "for epoch in range(num_epochs):\n",
    "    accuracy, running_loss = train_model(model, train_dataset, device, criterion, optimizer)\n",
    "    \n",
    "    # Print the loss and accuracy for each epoch\n",
    "    print(f\"Epoch {epoch+1}/{num_epochs}: Loss = {running_loss:.4f}, Accuracy = {accuracy:.2f}%\")\n",
    "    if accuracy > 90:\n",
    "        break\n"
   ]
  },
  {
   "cell_type": "code",
   "execution_count": 15,
   "metadata": {},
   "outputs": [
    {
     "name": "stdout",
     "output_type": "stream",
     "text": [
      "Eval\n",
      "Class Labels:\n",
      "0: Monet\n",
      "1: Picasso\n",
      "Label: Monet, Predicted: Monet, Prob: 84.28%, Match: Correct, Capucines_boulevard.jpg\n",
      "Label: Monet, Predicted: Monet, Prob: 58.96%, Match: Correct, Dinner_of_Sisley.jpg\n",
      "Label: Monet, Predicted: Monet, Prob: 90.51%, Match: Correct, Mrs_Monet.jpg\n",
      "Label: Monet, Predicted: Monet, Prob: 78.3%, Match: Correct, Pears_and_grapes.jpg\n",
      "Label: Monet, Predicted: Monet, Prob: 64.86%, Match: Correct, Plazzo_da_mula_in_Venezia.jpg\n",
      "Label: Monet, Predicted: Monet, Prob: 83.44%, Match: Correct, Pond_of_water_lily.jpg\n",
      "Label: Monet, Predicted: Monet, Prob: 83.65%, Match: Correct, Poplars_of_Giverny.jpg\n",
      "Label: Monet, Predicted: Monet, Prob: 83.91%, Match: Correct, Red_poppy.jpg\n",
      "Label: Monet, Predicted: Monet, Prob: 73.25%, Match: Correct, Terrace_of_Saint-Adresse.jpg\n",
      "Label: Picasso, Predicted: Picasso, Prob: 93.23%, Match: Correct, Girl_with_a_ring.jpg\n",
      "Label: Picasso, Predicted: Picasso, Prob: 62.09%, Match: Correct, Girls_in_Avignon.jpg\n",
      "Label: Picasso, Predicted: Picasso, Prob: 88.61%, Match: Correct, Guitar-_cup_and_fruits.jpg\n",
      "Label: Picasso, Predicted: Monet, Prob: 59.37%, Match: Incorrect, Man_with_a_violin.jpg\n",
      "Label: Picasso, Predicted: Picasso, Prob: 60.91%, Match: Correct, Model_and_artist.jpg\n",
      "Label: Picasso, Predicted: Picasso, Prob: 60.89%, Match: Correct, Nude_woman_under_the_pine_tree.jpg\n",
      "Label: Picasso, Predicted: Picasso, Prob: 66.69%, Match: Correct, Nude_woman_with_a_comb.jpg\n",
      "Label: Picasso, Predicted: Picasso, Prob: 82.7%, Match: Correct, Still_life_with_a_pan.jpg\n",
      "Label: Picasso, Predicted: Picasso, Prob: 79.11%, Match: Correct, Woman_playing_with_a_vall_on_the_beach.jpg\n",
      "Label: Picasso, Predicted: Picasso, Prob: 51.06%, Match: Correct, Women_of_Algeria.jpg\n"
     ]
    }
   ],
   "source": [
    "eval_results = run_evaluation(model, INPUT_DIR_TRAIN, device, train_classes, verbose=True)"
   ]
  },
  {
   "cell_type": "code",
   "execution_count": 16,
   "metadata": {},
   "outputs": [
    {
     "name": "stdout",
     "output_type": "stream",
     "text": [
      "Test 1\n",
      "Class Labels:\n",
      "0: Monet\n",
      "1: Picasso\n",
      "Label: Monet, Predicted: Monet, Prob: 81.09%, Match: Correct, Capucines_boulevard.jpg\n",
      "Label: Monet, Predicted: Picasso, Prob: 50.38%, Match: Incorrect, Dinner_of_Sisley.jpg\n",
      "Label: Monet, Predicted: Monet, Prob: 75.21%, Match: Correct, Mrs_Monet.jpg\n",
      "Label: Monet, Predicted: Monet, Prob: 75.84%, Match: Correct, Pears_and_grapes.jpg\n",
      "Label: Monet, Predicted: Monet, Prob: 55.38%, Match: Correct, Plazzo_da_mula_in_Venezia.jpg\n",
      "Label: Monet, Predicted: Monet, Prob: 74.22%, Match: Correct, Pond_of_water_lily.jpg\n",
      "Label: Monet, Predicted: Monet, Prob: 71.42%, Match: Correct, Poplars_of_Giverny.jpg\n",
      "Label: Monet, Predicted: Monet, Prob: 75.94%, Match: Correct, Red_poppy.jpg\n",
      "Label: Monet, Predicted: Monet, Prob: 75.45%, Match: Correct, Terrace_of_Saint-Adresse.jpg\n",
      "Label: Picasso, Predicted: Picasso, Prob: 84.55%, Match: Correct, Girl_with_a_ring.jpg\n",
      "Label: Picasso, Predicted: Picasso, Prob: 74.61%, Match: Correct, Girls_in_Avignon.jpg\n",
      "Label: Picasso, Predicted: Picasso, Prob: 87.87%, Match: Correct, Guitar-_cup_and_fruits.jpg\n",
      "Label: Picasso, Predicted: Monet, Prob: 55.12%, Match: Incorrect, Man_with_a_violin.jpg\n",
      "Label: Picasso, Predicted: Picasso, Prob: 50.45%, Match: Correct, Model_and_artist.jpg\n",
      "Label: Picasso, Predicted: Picasso, Prob: 65.14%, Match: Correct, Nude_woman_under_the_pine_tree.jpg\n",
      "Label: Picasso, Predicted: Picasso, Prob: 77.07%, Match: Correct, Nude_woman_with_a_comb.jpg\n",
      "Label: Picasso, Predicted: Picasso, Prob: 70.26%, Match: Correct, Still_life_with_a_pan.jpg\n",
      "Label: Picasso, Predicted: Picasso, Prob: 80.08%, Match: Correct, Woman_playing_with_a_vall_on_the_beach.jpg\n",
      "Label: Picasso, Predicted: Picasso, Prob: 60.05%, Match: Correct, Women_of_Algeria.jpg\n"
     ]
    }
   ],
   "source": [
    "test_1_results = run_evaluation(model, INPUT_DIR_TRAIN, device, train_classes, test_type='test_1', verbose=True)"
   ]
  },
  {
   "cell_type": "code",
   "execution_count": 17,
   "metadata": {},
   "outputs": [
    {
     "name": "stdout",
     "output_type": "stream",
     "text": [
      "Test 2\n",
      "Class Labels:\n",
      "0: Monet\n",
      "1: Picasso\n",
      "Label: Monet, Predicted: Monet, Prob: 71.42%, Match: Correct, Capucines_boulevard.jpg\n",
      "Label: Monet, Predicted: Picasso, Prob: 56.52%, Match: Incorrect, Dinner_of_Sisley.jpg\n",
      "Label: Monet, Predicted: Monet, Prob: 85.07%, Match: Correct, Mrs_Monet.jpg\n",
      "Label: Monet, Predicted: Monet, Prob: 71.18%, Match: Correct, Pears_and_grapes.jpg\n",
      "Label: Monet, Predicted: Monet, Prob: 60.05%, Match: Correct, Plazzo_da_mula_in_Venezia.jpg\n",
      "Label: Monet, Predicted: Monet, Prob: 64.54%, Match: Correct, Pond_of_water_lily.jpg\n",
      "Label: Monet, Predicted: Monet, Prob: 64.38%, Match: Correct, Poplars_of_Giverny.jpg\n",
      "Label: Monet, Predicted: Monet, Prob: 72.92%, Match: Correct, Red_poppy.jpg\n",
      "Label: Monet, Predicted: Monet, Prob: 75.45%, Match: Correct, Terrace_of_Saint-Adresse.jpg\n",
      "Label: Picasso, Predicted: Picasso, Prob: 85.0%, Match: Correct, Girl_with_a_ring.jpg\n",
      "Label: Picasso, Predicted: Picasso, Prob: 60.01%, Match: Correct, Girls_in_Avignon.jpg\n",
      "Label: Picasso, Predicted: Picasso, Prob: 84.26%, Match: Correct, Guitar-_cup_and_fruits.jpg\n",
      "Label: Picasso, Predicted: Picasso, Prob: 50.86%, Match: Correct, Man_with_a_violin.jpg\n",
      "Label: Picasso, Predicted: Picasso, Prob: 63.98%, Match: Correct, Model_and_artist.jpg\n",
      "Label: Picasso, Predicted: Picasso, Prob: 59.83%, Match: Correct, Nude_woman_under_the_pine_tree.jpg\n",
      "Label: Picasso, Predicted: Monet, Prob: 55.55%, Match: Incorrect, Nude_woman_with_a_comb.jpg\n",
      "Label: Picasso, Predicted: Picasso, Prob: 83.65%, Match: Correct, Still_life_with_a_pan.jpg\n",
      "Label: Picasso, Predicted: Picasso, Prob: 76.02%, Match: Correct, Woman_playing_with_a_vall_on_the_beach.jpg\n",
      "Label: Picasso, Predicted: Picasso, Prob: 77.55%, Match: Correct, Women_of_Algeria.jpg\n"
     ]
    }
   ],
   "source": [
    "test_2_results = run_evaluation(model, INPUT_DIR_TRAIN, device, train_classes, test_type='test_2', verbose=True)"
   ]
  },
  {
   "cell_type": "code",
   "execution_count": 18,
   "metadata": {},
   "outputs": [
    {
     "name": "stdout",
     "output_type": "stream",
     "text": [
      "Test 3 - Vertical Flip\n",
      "Class Labels:\n",
      "0: Monet\n",
      "1: Picasso\n"
     ]
    },
    {
     "name": "stdout",
     "output_type": "stream",
     "text": [
      "Label: Monet, Predicted: Monet, Prob: 90.67%, Match: Correct, Capucines_boulevard.jpg\n",
      "Label: Monet, Predicted: Monet, Prob: 55.34%, Match: Correct, Dinner_of_Sisley.jpg\n",
      "Label: Monet, Predicted: Monet, Prob: 83.19%, Match: Correct, Mrs_Monet.jpg\n",
      "Label: Monet, Predicted: Monet, Prob: 77.75%, Match: Correct, Pears_and_grapes.jpg\n",
      "Label: Monet, Predicted: Monet, Prob: 63.85%, Match: Correct, Plazzo_da_mula_in_Venezia.jpg\n",
      "Label: Monet, Predicted: Monet, Prob: 79.74%, Match: Correct, Pond_of_water_lily.jpg\n",
      "Label: Monet, Predicted: Monet, Prob: 82.62%, Match: Correct, Poplars_of_Giverny.jpg\n",
      "Label: Monet, Predicted: Monet, Prob: 76.38%, Match: Correct, Red_poppy.jpg\n",
      "Label: Monet, Predicted: Monet, Prob: 88.47%, Match: Correct, Terrace_of_Saint-Adresse.jpg\n",
      "Label: Picasso, Predicted: Picasso, Prob: 73.3%, Match: Correct, Girl_with_a_ring.jpg\n",
      "Label: Picasso, Predicted: Picasso, Prob: 74.43%, Match: Correct, Girls_in_Avignon.jpg\n",
      "Label: Picasso, Predicted: Picasso, Prob: 79.48%, Match: Correct, Guitar-_cup_and_fruits.jpg\n",
      "Label: Picasso, Predicted: Monet, Prob: 66.58%, Match: Incorrect, Man_with_a_violin.jpg\n",
      "Label: Picasso, Predicted: Monet, Prob: 55.51%, Match: Incorrect, Model_and_artist.jpg\n",
      "Label: Picasso, Predicted: Picasso, Prob: 56.67%, Match: Correct, Nude_woman_under_the_pine_tree.jpg\n",
      "Label: Picasso, Predicted: Picasso, Prob: 73.09%, Match: Correct, Nude_woman_with_a_comb.jpg\n",
      "Label: Picasso, Predicted: Picasso, Prob: 70.83%, Match: Correct, Still_life_with_a_pan.jpg\n",
      "Label: Picasso, Predicted: Picasso, Prob: 79.26%, Match: Correct, Woman_playing_with_a_vall_on_the_beach.jpg\n",
      "Label: Picasso, Predicted: Picasso, Prob: 50.2%, Match: Correct, Women_of_Algeria.jpg\n"
     ]
    }
   ],
   "source": [
    "test_3v_results = run_evaluation(model, INPUT_DIR_TRAIN, device, train_classes, test_type='test_3_vertical_flip', verbose=True)"
   ]
  },
  {
   "cell_type": "code",
   "execution_count": 19,
   "metadata": {},
   "outputs": [
    {
     "name": "stdout",
     "output_type": "stream",
     "text": [
      "Test 3 - Horizontal Flip\n",
      "Class Labels:\n",
      "0: Monet\n",
      "1: Picasso\n",
      "Label: Monet, Predicted: Monet, Prob: 85.95%, Match: Correct, Capucines_boulevard.jpg\n",
      "Label: Monet, Predicted: Monet, Prob: 54.96%, Match: Correct, Dinner_of_Sisley.jpg\n",
      "Label: Monet, Predicted: Monet, Prob: 82.97%, Match: Correct, Mrs_Monet.jpg\n",
      "Label: Monet, Predicted: Monet, Prob: 77.32%, Match: Correct, Pears_and_grapes.jpg\n",
      "Label: Monet, Predicted: Monet, Prob: 71.66%, Match: Correct, Plazzo_da_mula_in_Venezia.jpg\n",
      "Label: Monet, Predicted: Monet, Prob: 77.32%, Match: Correct, Pond_of_water_lily.jpg\n",
      "Label: Monet, Predicted: Monet, Prob: 80.12%, Match: Correct, Poplars_of_Giverny.jpg\n",
      "Label: Monet, Predicted: Monet, Prob: 79.7%, Match: Correct, Red_poppy.jpg\n",
      "Label: Monet, Predicted: Monet, Prob: 75.21%, Match: Correct, Terrace_of_Saint-Adresse.jpg\n",
      "Label: Picasso, Predicted: Picasso, Prob: 82.78%, Match: Correct, Girl_with_a_ring.jpg\n",
      "Label: Picasso, Predicted: Picasso, Prob: 68.4%, Match: Correct, Girls_in_Avignon.jpg\n",
      "Label: Picasso, Predicted: Picasso, Prob: 89.96%, Match: Correct, Guitar-_cup_and_fruits.jpg\n",
      "Label: Picasso, Predicted: Monet, Prob: 62.01%, Match: Incorrect, Man_with_a_violin.jpg\n",
      "Label: Picasso, Predicted: Picasso, Prob: 53.14%, Match: Correct, Model_and_artist.jpg\n",
      "Label: Picasso, Predicted: Monet, Prob: 52.21%, Match: Incorrect, Nude_woman_under_the_pine_tree.jpg\n",
      "Label: Picasso, Predicted: Picasso, Prob: 67.61%, Match: Correct, Nude_woman_with_a_comb.jpg\n",
      "Label: Picasso, Predicted: Picasso, Prob: 86.36%, Match: Correct, Still_life_with_a_pan.jpg\n",
      "Label: Picasso, Predicted: Picasso, Prob: 71.85%, Match: Correct, Woman_playing_with_a_vall_on_the_beach.jpg\n",
      "Label: Picasso, Predicted: Picasso, Prob: 50.76%, Match: Correct, Women_of_Algeria.jpg\n"
     ]
    }
   ],
   "source": [
    "test_3h_results = run_evaluation(model, INPUT_DIR_TRAIN, device, train_classes, test_type='test_3_horizontal_flip', verbose=True)"
   ]
  },
  {
   "cell_type": "code",
   "execution_count": 20,
   "metadata": {},
   "outputs": [
    {
     "name": "stdout",
     "output_type": "stream",
     "text": [
      "Test 4\n",
      "Class Labels:\n",
      "0: Braque\n",
      "1: Cezanne\n",
      "2: Delacroix\n",
      "3: New_Monet\n",
      "4: New_Picasso\n",
      "Label: Braque, Predicted: Picasso, Prob: 66.74%, Match: Incorrect, An_easel_and_a_woman.jpg\n",
      "Label: Braque, Predicted: Picasso, Prob: 55.18%, Match: Incorrect, Female_musician.jpg\n",
      "Label: Braque, Predicted: Picasso, Prob: 71.62%, Match: Incorrect, Still_life_with_\"le_Jour\".jpg\n",
      "Label: Cezanne, Predicted: Monet, Prob: 61.02%, Match: Incorrect, Big_water_bathing.jpg\n",
      "Label: Cezanne, Predicted: Monet, Prob: 53.42%, Match: Incorrect, Sitting_man.jpg\n",
      "Label: Cezanne, Predicted: Monet, Prob: 57.9%, Match: Incorrect, Still_life_with_onions.jpg\n",
      "Label: Delacroix, Predicted: Picasso, Prob: 67.71%, Match: Incorrect, Atelier.jpg\n",
      "Label: Delacroix, Predicted: Monet, Prob: 71.34%, Match: Incorrect, July_28th.jpg\n",
      "Label: Delacroix, Predicted: Monet, Prob: 71.17%, Match: Incorrect, Still_life_with_a_lobster.jpg\n",
      "Label: New_Monet, Predicted: Monet, Prob: 82.13%, Match: Correct, La_Grenouillere.jpg\n",
      "Label: New_Monet, Predicted: Monet, Prob: 83.38%, Match: Correct, Lady_with_parasole.jpg\n",
      "Label: New_Monet, Predicted: Monet, Prob: 87.76%, Match: Correct, Water_lily.jpg\n",
      "Label: New_Picasso, Predicted: Picasso, Prob: 83.86%, Match: Correct, Dance.jpg\n",
      "Label: New_Picasso, Predicted: Picasso, Prob: 84.97%, Match: Correct, Still_life_with_an_ox_head.jpg\n",
      "Label: New_Picasso, Predicted: Picasso, Prob: 73.91%, Match: Correct, Woman_looking_at_the_glass.jpg\n"
     ]
    }
   ],
   "source": [
    "test_4_results = run_evaluation(model, INPUT_DIR_TEST, device, train_classes, test_type='test_4', verbose=True)"
   ]
  },
  {
   "cell_type": "code",
   "execution_count": null,
   "metadata": {},
   "outputs": [],
   "source": []
  }
 ],
 "metadata": {
  "kernelspec": {
   "display_name": ".venv",
   "language": "python",
   "name": "python3"
  },
  "language_info": {
   "codemirror_mode": {
    "name": "ipython",
    "version": 3
   },
   "file_extension": ".py",
   "mimetype": "text/x-python",
   "name": "python",
   "nbconvert_exporter": "python",
   "pygments_lexer": "ipython3",
   "version": "3.10.10"
  }
 },
 "nbformat": 4,
 "nbformat_minor": 2
}
