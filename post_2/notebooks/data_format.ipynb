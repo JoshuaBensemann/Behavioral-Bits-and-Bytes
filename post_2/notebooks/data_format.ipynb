{
 "cells": [
  {
   "cell_type": "code",
   "execution_count": null,
   "metadata": {},
   "outputs": [],
   "source": [
    "# %pip install pillow"
   ]
  },
  {
   "cell_type": "code",
   "execution_count": null,
   "metadata": {},
   "outputs": [],
   "source": [
    "from PIL import Image\n",
    "from os import scandir, path, mkdir\n"
   ]
  },
  {
   "cell_type": "code",
   "execution_count": null,
   "metadata": {},
   "outputs": [],
   "source": [
    "NEW_SIZE = (224, 224)\n",
    "DATA_DIR = '../data'\n",
    "IMAGE_EXT = ['.jpg', '.jpeg', '.png', 'webp']\n",
    "INPUT_DIR_A = path.join(DATA_DIR, 'model_input_a')\n",
    "INPUT_DIR_B = path.join(DATA_DIR, 'model_input_b')"
   ]
  },
  {
   "cell_type": "code",
   "execution_count": null,
   "metadata": {},
   "outputs": [],
   "source": [
    "def resize_image(image_path, new_path, new_size=NEW_SIZE):\n",
    "    image = Image.open(image_path)\n",
    "    image.thumbnail(new_size)\n",
    "    image.save(new_path)\n"
   ]
  },
  {
   "cell_type": "code",
   "execution_count": null,
   "metadata": {},
   "outputs": [],
   "source": [
    "if not path.exists(INPUT_DIR_A):\n",
    "    mkdir(INPUT_DIR_A)\n",
    "\n",
    "\n",
    "if not path.exists(INPUT_DIR_B):\n",
    "    mkdir(INPUT_DIR_B)\n",
    "    "
   ]
  },
  {
   "cell_type": "code",
   "execution_count": null,
   "metadata": {},
   "outputs": [],
   "source": [
    "monet_a = [file.name for file in scandir(f'{DATA_DIR}/Monet_A') if any(file.name.endswith(ext) for ext in IMAGE_EXT)] \n",
    "if not path.exists(f'{INPUT_DIR_A}/Monet'):\n",
    "    mkdir(f'{INPUT_DIR_A}/Monet')\n",
    "\n",
    "for image in monet_a:\n",
    "    image_path = f'{DATA_DIR}/Monet_A/{image}'\n",
    "    new_path = f'{INPUT_DIR_A}/Monet/{image}'\n",
    "    if new_path.endswith('.webp'):\n",
    "        new_path = new_path.replace('.webp', '.jpg')\n",
    " \n",
    "    resize_image(image_path, new_path)\n",
    "\n",
    "for file in scandir(f'{INPUT_DIR_A}/Monet'):\n",
    "    print(file.name)\n",
    "    "
   ]
  },
  {
   "cell_type": "code",
   "execution_count": null,
   "metadata": {},
   "outputs": [],
   "source": [
    "picasso_a = [file.name for file in scandir(f'{DATA_DIR}/Picasso_A') if any(file.name.endswith(ext) for ext in IMAGE_EXT)]\n",
    "if not path.exists(f'{INPUT_DIR_A}/Picasso'):\n",
    "    mkdir(f'{INPUT_DIR_A}/Picasso')\n",
    "\n",
    "for image in picasso_a:\n",
    "    image_path = f'{DATA_DIR}/Picasso_A/{image}'\n",
    "    new_path = f'{INPUT_DIR_A}/Picasso/{image}'\n",
    "    if new_path.endswith('.webp'):\n",
    "        new_path = new_path.replace('.webp', '.jpg')\n",
    " \n",
    "    resize_image(image_path, new_path)\n",
    "\n",
    "for file in scandir(f'{INPUT_DIR_A}/Picasso'):\n",
    "    print(file.name)\n",
    "    "
   ]
  },
  {
   "cell_type": "code",
   "execution_count": null,
   "metadata": {},
   "outputs": [],
   "source": [
    "monet_b = [file.name for file in scandir(f'{DATA_DIR}/Monet_B') if any(file.name.endswith(ext) for ext in IMAGE_EXT)] \n",
    "if not path.exists(f'{INPUT_DIR_B}/Monet'):\n",
    "    mkdir(f'{INPUT_DIR_B}/Monet')\n",
    "\n",
    "for image in monet_b:\n",
    "    image_path = f'{DATA_DIR}/Monet_B/{image}'\n",
    "    new_path = f'{INPUT_DIR_B}/Monet/{image}'\n",
    "    if new_path.endswith('.webp'):\n",
    "        new_path = new_path.replace('.webp', '.jpg')\n",
    " \n",
    "    resize_image(image_path, new_path)\n",
    "\n",
    "for file in scandir(f'{INPUT_DIR_B}/Monet'):\n",
    "    print(file.name)\n",
    "    "
   ]
  },
  {
   "cell_type": "code",
   "execution_count": null,
   "metadata": {},
   "outputs": [],
   "source": [
    "picasso_b = [file.name for file in scandir(f'{DATA_DIR}/Picasso_B') if any(file.name.endswith(ext) for ext in IMAGE_EXT)]\n",
    "if not path.exists(f'{INPUT_DIR_B}/Picasso'):\n",
    "    mkdir(f'{INPUT_DIR_B}/Picasso')\n",
    "\n",
    "for image in picasso_b:\n",
    "    image_path = f'{DATA_DIR}/Picasso_B/{image}'\n",
    "    new_path = f'{INPUT_DIR_B}/Picasso/{image}'\n",
    "    if new_path.endswith('.webp'):\n",
    "        new_path = new_path.replace('.webp', '.jpg')\n",
    " \n",
    "    resize_image(image_path, new_path)\n",
    "\n",
    "for file in scandir(f'{INPUT_DIR_B}/Picasso'):\n",
    "    print(file.name)\n",
    "    "
   ]
  }
 ],
 "metadata": {
  "kernelspec": {
   "display_name": ".venv",
   "language": "python",
   "name": "python3"
  },
  "language_info": {
   "codemirror_mode": {
    "name": "ipython",
    "version": 3
   },
   "file_extension": ".py",
   "mimetype": "text/x-python",
   "name": "python",
   "nbconvert_exporter": "python",
   "pygments_lexer": "ipython3",
   "version": "3.9.13"
  }
 },
 "nbformat": 4,
 "nbformat_minor": 2
}
