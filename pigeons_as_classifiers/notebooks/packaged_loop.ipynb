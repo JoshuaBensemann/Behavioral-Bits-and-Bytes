{
 "cells": [
  {
   "cell_type": "code",
   "execution_count": 1,
   "metadata": {},
   "outputs": [],
   "source": [
    "import torch\n",
    "import torch.nn as nn\n",
    "import torch.optim as optim\n",
    "from torchvision.models import resnet50\n",
    "from torch.utils.data import DataLoader\n",
    "from torchvision import datasets, transforms\n",
    "from torchvision.datasets import ImageFolder\n",
    "import torch.nn.functional as F\n",
    "\n",
    "import sys\n",
    "\n",
    "sys.path.append('..')\n",
    "\n",
    "from PAC.train import train_model, training_setup\n",
    "from PAC.eval import evaluate_model\n",
    "from PAC.datasets import get_training_dataset, get_testing_dataset"
   ]
  },
  {
   "cell_type": "code",
   "execution_count": 2,
   "metadata": {},
   "outputs": [],
   "source": [
    "INPUT_DIR_A = '../data/train_a'\n",
    "INPUT_DIR_TEST = '../data/test_4_a'"
   ]
  },
  {
   "cell_type": "code",
   "execution_count": 3,
   "metadata": {},
   "outputs": [
    {
     "name": "stdout",
     "output_type": "stream",
     "text": [
      "Class Labels:\n",
      "0: Monet\n",
      "1: Picasso\n"
     ]
    }
   ],
   "source": [
    "train_dataset, train_classes = get_training_dataset(INPUT_DIR_A)"
   ]
  },
  {
   "cell_type": "code",
   "execution_count": 4,
   "metadata": {},
   "outputs": [
    {
     "name": "stdout",
     "output_type": "stream",
     "text": [
      "Device: mps\n",
      "Epoch 1/100: Loss = 13.7575, Accuracy = 42.11%\n",
      "Epoch 2/100: Loss = 13.6826, Accuracy = 42.11%\n",
      "Epoch 3/100: Loss = 12.6943, Accuracy = 52.63%\n",
      "Epoch 4/100: Loss = 12.6782, Accuracy = 57.89%\n",
      "Epoch 5/100: Loss = 12.0217, Accuracy = 63.16%\n",
      "Epoch 6/100: Loss = 11.9337, Accuracy = 68.42%\n",
      "Epoch 7/100: Loss = 11.0971, Accuracy = 78.95%\n",
      "Epoch 8/100: Loss = 11.5007, Accuracy = 84.21%\n",
      "Epoch 9/100: Loss = 10.9243, Accuracy = 78.95%\n",
      "Epoch 10/100: Loss = 10.5759, Accuracy = 84.21%\n",
      "Epoch 11/100: Loss = 10.5918, Accuracy = 78.95%\n",
      "Epoch 12/100: Loss = 10.6626, Accuracy = 84.21%\n",
      "Epoch 13/100: Loss = 9.9448, Accuracy = 84.21%\n",
      "Epoch 14/100: Loss = 9.5704, Accuracy = 94.74%\n"
     ]
    }
   ],
   "source": [
    "# Load the pre-trained ResNet model\n",
    "model = resnet50(weights='ResNet50_Weights.DEFAULT')\n",
    "\n",
    "# Define the number of training epochs\n",
    "num_epochs = 100\n",
    "\n",
    "model, device, criterion, optimizer = training_setup(model, train_classes, lr=0.01)\n",
    "\n",
    "# Training loop\n",
    "for epoch in range(num_epochs):\n",
    "    accuracy, running_loss = train_model(model, train_dataset, device, criterion, optimizer)\n",
    "    \n",
    "    # Print the loss and accuracy for each epoch\n",
    "    print(f\"Epoch {epoch+1}/{num_epochs}: Loss = {running_loss:.4f}, Accuracy = {accuracy:.2f}%\")\n",
    "    if accuracy > 90:\n",
    "        break\n"
   ]
  },
  {
   "cell_type": "code",
   "execution_count": 5,
   "metadata": {},
   "outputs": [
    {
     "name": "stdout",
     "output_type": "stream",
     "text": [
      "Class Labels:\n",
      "0: Braque\n",
      "1: Cezanne\n",
      "2: Delacroix\n",
      "3: New_Monet\n",
      "4: New_Picasso\n"
     ]
    }
   ],
   "source": [
    "eval_dataloader, eval_classes = get_testing_dataset(INPUT_DIR_TEST)"
   ]
  },
  {
   "cell_type": "code",
   "execution_count": 6,
   "metadata": {},
   "outputs": [
    {
     "name": "stdout",
     "output_type": "stream",
     "text": [
      "Actual: Braque, Predicted: Picasso 68.19%\n",
      "Actual: Braque, Predicted: Picasso 50.11%\n",
      "Actual: Braque, Predicted: Picasso 60.28%\n",
      "Actual: Cezanne, Predicted: Monet 70.39%\n",
      "Actual: Cezanne, Predicted: Picasso 51.96%\n",
      "Actual: Cezanne, Predicted: Monet 54.82%\n",
      "Actual: Delacroix, Predicted: Picasso 63.05%\n",
      "Actual: Delacroix, Predicted: Monet 69.83%\n",
      "Actual: Delacroix, Predicted: Monet 74.94%\n",
      "Actual: New_Monet, Predicted: Monet 83.46%\n",
      "Actual: New_Monet, Predicted: Monet 85.37%\n",
      "Actual: New_Monet, Predicted: Monet 87.36%\n",
      "Actual: New_Picasso, Predicted: Picasso 66.33%\n",
      "Actual: New_Picasso, Predicted: Picasso 73.67%\n",
      "Actual: New_Picasso, Predicted: Picasso 54.35%\n"
     ]
    }
   ],
   "source": [
    "results = evaluate_model(model, eval_dataloader, device, train_classes, eval_classes)\n"
   ]
  }
 ],
 "metadata": {
  "kernelspec": {
   "display_name": ".venv",
   "language": "python",
   "name": "python3"
  },
  "language_info": {
   "codemirror_mode": {
    "name": "ipython",
    "version": 3
   },
   "file_extension": ".py",
   "mimetype": "text/x-python",
   "name": "python",
   "nbconvert_exporter": "python",
   "pygments_lexer": "ipython3",
   "version": "3.10.10"
  }
 },
 "nbformat": 4,
 "nbformat_minor": 2
}
